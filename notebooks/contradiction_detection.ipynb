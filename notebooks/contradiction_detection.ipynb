{
 "cells": [
  {
   "cell_type": "markdown",
   "metadata": {},
   "source": [
    "\n",
    "# Natural Language Inference on “Contradictory, My Dear Watson”\n",
    "#### Author: James Coffey   \n",
    "#### Date: 2025‑08‑17\n",
    "#### Challenge URL: [Contradictory, My Dear Watson](https://www.kaggle.com/competitions/contradictory-my-dear-watson)\n",
    "\n",
    "# Discussion\n",
    "\n",
    "This notebook tackles multilingual Natural Language Inference (NLI) for the\n",
    "Kaggle **Contradictory, My Dear Watson** dataset. Below I explain what I built\n",
    "and why, what I observed about the data and models, how the results shook out,\n",
    "and what I’d change next.\n",
    "\n",
    "## Implementation decisions\n",
    "\n",
    "* **Hardware:** I ran **GPU‑only (T4×2)** with `MirroredStrategy` and **mixed\n",
    "  precision**. In practice, TPUs on Kaggle can be hit‑or‑miss to initialize;\n",
    "  GPUs gave me a simpler, robust path and good throughput.\n",
    "* **Data split:** I kept a **classic 80/20 split stratified by label** (no\n",
    "  challenge set), which proved more stable for validation accuracy in my runs.\n",
    "* **Preprocessing:** Minimal. No lowercasing/punctuation removal. I **removed\n",
    "  `[lang]` prefixes** after seeing they hurt validation when not registered as\n",
    "  true special tokens and used consistently.\n",
    "* **Baselines:** A quick **TF‑IDF → LinearSVC** baseline to sanity‑check the\n",
    "  pipeline.\n",
    "* **Transformers:** I compared three multilingual checkpoints:\n",
    "\n",
    "  * `microsoft/mdeberta-v3-base`\n",
    "  * `bert-base-multilingual-cased`\n",
    "  * `xlm-roberta-base` I avoided `xlm-roberta-large` due to OOM on GPUs.\n",
    "\n",
    "* **Optimization:** Warmup + weight decay via `transformers.create_optimizer`,\n",
    "  **label smoothing = 0.05**, early stopping on `val_accuracy`, fixed\n",
    "  `MAX_LEN=128`.\n",
    "* **Packaging:** Saved **tokenizer**, **SavedModel**, and **weights**, and added\n",
    "  a small `predict_pair()` utility. I **skipped ONNX** export because it was\n",
    "  CPU/RAM heavy and slowed the workflow.\n",
    "\n",
    "## Key observations about the data\n",
    "\n",
    "* **Language distribution** is uneven (as expected in CMDW). This matters for\n",
    "  stratification and for interpreting per‑language accuracy.\n",
    "* **Sentence length varies widely by language.** For example, Vietnamese\n",
    "  premises are relatively long on average, while Thai and Chinese appear very\n",
    "  short in whitespace‑token counts (tokenizer‑dependent in practice).\n",
    "* **Label semantics are asymmetric** in difficulty: neutral vs entailment can be\n",
    "  especially subtle, and that ambiguity shows up in the confusion matrix.\n",
    "\n",
    "## Key observations about the models\n",
    "\n",
    "* **mDeBERTa‑v3‑base was consistently strongest**, likely due to the\n",
    "  disentangled attention and modern training recipe. It converged quickly and\n",
    "  kept its edge even with conservative hyperparameters.\n",
    "* **mBERT (cased)** was solid and predictable, landing in the mid‑0.6s on\n",
    "  validation with this setup.\n",
    "* **XLM‑R base lagged** here. With identical training code, it hovered near\n",
    "  chance early on and improved only slightly. This suggests it wanted a\n",
    "  different LR schedule, more steps, longer `max_len`, or simply better\n",
    "  regularization for this exact split. (It also doesn’t use `token_type_ids`,\n",
    "  which the code handles.)\n",
    "* **Label smoothing (0.05)** behaved well with one‑hot labels and\n",
    "  `CategoricalCrossentropy(from_logits=True)`, reducing over‑confidence without\n",
    "  hurting peak accuracy.\n",
    "* **Mixed precision** provided speed/memory benefits without numerical issues\n",
    "  once logits were cast back to `float32` for loss/metrics.\n",
    "\n",
    "## Key observations about results\n",
    "\n",
    "* **Validation:** Best run reached **~0.791 val accuracy** with\n",
    "  `mdeberta‑v3‑base` (early peak around epochs 5–7). mBERT hit ~0.67; XLM‑R base\n",
    "  lagged in the mid‑0.34–0.36 range in this specific configuration.\n",
    "* **Per‑language validation accuracy (macro ≈ 0.768):** High 0.8s for Spanish,\n",
    "  Vietnamese, French, English; mid 0.7s for German/Greek/Russian; lower for\n",
    "  Swahili/Urdu/Thai. This lines up with typical resource and script differences.\n",
    "* **Confusion matrix:** Most errors are **entailment vs neutral** swaps;\n",
    "  contradictions are more cleanly identified. That’s consistent with NLI\n",
    "  literature where neutral is the \"catch‑all\" that often absorbs borderline\n",
    "  entailments.\n",
    "* **Leaderboard:** With the chosen configuration and single best‑model\n",
    "  inference, I obtained a score around **0.777** on the public LB, in line with\n",
    "  validation.\n",
    "\n",
    "## How I would improve the model next\n",
    "\n",
    "1. **Make language tags *true* special tokens** (if I bring them back):\n",
    "\n",
    "   * Add `[xx]` tokens to the tokenizer via `additional_special_tokens` and\n",
    "     **resize embeddings**.\n",
    "   * Use them consistently for **train/val/test**. In past work, this helps\n",
    "     multilingual transfer when done correctly.\n",
    "\n",
    "2. **Better splits for robustness:**\n",
    "\n",
    "   * Stratify by **label+language**, and optionally keep a small **low‑resource\n",
    "     \"challenge\" set** to monitor tail‑language generalization.\n",
    "   * Add **K‑fold CV** over stratified folds to stabilize model selection.\n",
    "\n",
    "3. **Hyperparameter sweep (small but targeted):**\n",
    "\n",
    "   * Try `max_len=256` for mDeBERTa (it often helps on longer premises).\n",
    "   * Sweep LR around the current values (e.g., {1e‑5, 2e‑5, 3e‑5}) with a fixed\n",
    "     warmup ratio.\n",
    "   * Consider **cosine decay** and slightly longer training with patience.\n",
    "\n",
    "4. **Training tricks:**\n",
    "\n",
    "   * **Freeze early layers** for a few epochs, then unfreeze (gradual\n",
    "     unfreezing) to reduce overfitting early on.\n",
    "   * Explore **R‑Drop** / consistency regularization or light **adversarial\n",
    "     weight perturbation (AWP)** for stability.\n",
    "\n",
    "5. **Ensembling & calibration:**\n",
    "\n",
    "   * Simple **average‑logit ensemble** of 2–3 strong checkpoints (e.g., mDeBERTa\n",
    "     + mBERT) usually yields +0.5–1.0pp.\n",
    "   * Apply **temperature scaling** on a held‑out set to calibrate probabilities.\n",
    "\n",
    "6. **Data augmentation:**\n",
    "\n",
    "   * **Back‑translation** or **round‑trip translation** for low‑resource\n",
    "     languages to reduce variance.\n",
    "   * Light **premise/hypothesis paraphrases** where available, with care not to\n",
    "     flip labels.\n",
    "\n",
    "7. **Infrastructure:**\n",
    "\n",
    "   * If a TPU becomes easy to acquire, try **`xlm‑roberta‑large`** or\n",
    "     **`deberta‑v3‑large`** with larger batches and `max_len=256`.\n",
    "\n",
    "## Closing notes\n",
    "\n",
    "This pipeline is intentionally simple: one clean split, clear baselines, a few\n",
    "strong multilingual checkpoints, and minimal knobs. Even so, mDeBERTa‑v3‑base\n",
    "lands near 0.77–0.80 on validation and ≈0.777 on the public leaderboard. The\n",
    "biggest near‑term wins are likely from stratifying by label+language with CV, a\n",
    "small LR/length sweep, and either ensembling or properly‑implemented language\n",
    "tags. The rest are incremental layers of polish depending on runtime budget.\n",
    "\n",
    "\n",
    "# Setup & Environment\n",
    "\n",
    "## Why not use TPU?\n",
    "\n",
    "Here’s why I’m using **GPU (T4×2)** instead of a TPU:\n",
    "\n",
    "Using TPUs on Kaggle can be hit-or-miss due to capacity and availability. They require a separate initialization path (TPU-VM / resolver setup) that adds friction. If a TPU isn’t actually attached, TensorFlow will fail at initialization. On the other hand, NVIDIA GPUs are a great default. Mixed-precision training in Keras is officially supported and typically speeds up training while reducing memory use, and Tensor Cores can deliver large gains on matrix operations (the core of transformer models). Finally, the Hugging Face TF stack tends to be simpler and stabler on GPU (no TPU resolver steps)."
   ]
  },
  {
   "cell_type": "code",
   "execution_count": null,
   "metadata": {
    "execution": {
     "iopub.execute_input": "2025-08-17T16:46:01.372948Z",
     "iopub.status.busy": "2025-08-17T16:46:01.372438Z",
     "iopub.status.idle": "2025-08-17T16:46:17.275404Z",
     "shell.execute_reply": "2025-08-17T16:46:17.274731Z",
     "shell.execute_reply.started": "2025-08-17T16:46:01.372927Z"
    },
    "trusted": true
   },
   "outputs": [
    {
     "name": "stderr",
     "output_type": "stream",
     "text": [
      "2025-08-17 16:46:01.640164: E external/local_xla/xla/stream_executor/cuda/cuda_fft.cc:477] Unable to register cuFFT factory: Attempting to register factory for plugin cuFFT when one has already been registered\n",
      "WARNING: All log messages before absl::InitializeLog() is called are written to STDERR\n",
      "E0000 00:00:1755449161.662245     113 cuda_dnn.cc:8310] Unable to register cuDNN factory: Attempting to register factory for plugin cuDNN when one has already been registered\n",
      "E0000 00:00:1755449161.669005     113 cuda_blas.cc:1418] Unable to register cuBLAS factory: Attempting to register factory for plugin cuBLAS when one has already been registered\n"
     ]
    },
    {
     "name": "stdout",
     "output_type": "stream",
     "text": [
      "Replicas: 2\n"
     ]
    },
    {
     "name": "stderr",
     "output_type": "stream",
     "text": [
      "I0000 00:00:1755449177.232246     113 gpu_device.cc:2022] Created device /job:localhost/replica:0/task:0/device:GPU:0 with 13942 MB memory:  -> device: 0, name: Tesla T4, pci bus id: 0000:00:04.0, compute capability: 7.5\n",
      "I0000 00:00:1755449177.233009     113 gpu_device.cc:2022] Created device /job:localhost/replica:0/task:0/device:GPU:1 with 13942 MB memory:  -> device: 1, name: Tesla T4, pci bus id: 0000:00:05.0, compute capability: 7.5\n"
     ]
    }
   ],
   "source": [
    "import os\n",
    "\n",
    "os.environ[\"TF_USE_LEGACY_KERAS\"] = \"1\"  # HF TF models expect Keras-2 API\n",
    "os.environ[\"TF_CPP_MIN_LOG_LEVEL\"] = \"2\"  # Quieter logs\n",
    "os.environ[\"TRANSFORMERS_NO_ADVISORY_WARNINGS\"] = \"1\"  # Quieter tokenizer logs\n",
    "\n",
    "import gc\n",
    "\n",
    "import tensorflow as tf\n",
    "from transformers import (\n",
    "    AutoTokenizer,\n",
    "    TFAutoModelForSequenceClassification,\n",
    "    create_optimizer,\n",
    ")\n",
    "from transformers.utils import logging as hf_logging\n",
    "\n",
    "hf_logging.set_verbosity_error()  # suppress HF advisory spam\n",
    "\n",
    "import matplotlib.pyplot as plt\n",
    "import numpy as np\n",
    "import pandas as pd\n",
    "from sklearn.feature_extraction.text import TfidfVectorizer\n",
    "from sklearn.metrics import ConfusionMatrixDisplay\n",
    "from sklearn.model_selection import StratifiedShuffleSplit\n",
    "from sklearn.pipeline import make_pipeline\n",
    "from sklearn.svm import LinearSVC\n",
    "\n",
    "# Reproducibility\n",
    "SEED = 42\n",
    "tf.keras.utils.set_random_seed(SEED)\n",
    "\n",
    "# Safer VRAM handling\n",
    "gpus = tf.config.list_physical_devices(\"GPU\")\n",
    "for g in gpus:\n",
    "    try:\n",
    "        tf.config.experimental.set_memory_growth(g, True)\n",
    "    except Exception:\n",
    "        pass\n",
    "\n",
    "# Use both T4s + automatic mixed precision\n",
    "strategy = tf.distribute.MirroredStrategy()\n",
    "tf.keras.mixed_precision.set_global_policy(\"mixed_float16\")\n",
    "print(\"Replicas:\", strategy.num_replicas_in_sync)"
   ]
  },
  {
   "cell_type": "markdown",
   "metadata": {},
   "source": [
    "# Data\n",
    "\n",
    "The training set contains a premise, a hypothesis, a label (0 = entailment, 1 = neutral, 2 = contradiction), and the language of the text."
   ]
  },
  {
   "cell_type": "code",
   "execution_count": 2,
   "metadata": {
    "execution": {
     "iopub.execute_input": "2025-08-17T16:46:17.277183Z",
     "iopub.status.busy": "2025-08-17T16:46:17.276696Z",
     "iopub.status.idle": "2025-08-17T16:46:17.504931Z",
     "shell.execute_reply": "2025-08-17T16:46:17.504332Z",
     "shell.execute_reply.started": "2025-08-17T16:46:17.277115Z"
    },
    "trusted": true
   },
   "outputs": [
    {
     "data": {
      "text/html": [
       "<div>\n",
       "<style scoped>\n",
       "    .dataframe tbody tr th:only-of-type {\n",
       "        vertical-align: middle;\n",
       "    }\n",
       "\n",
       "    .dataframe tbody tr th {\n",
       "        vertical-align: top;\n",
       "    }\n",
       "\n",
       "    .dataframe thead th {\n",
       "        text-align: right;\n",
       "    }\n",
       "</style>\n",
       "<table border=\"1\" class=\"dataframe\">\n",
       "  <thead>\n",
       "    <tr style=\"text-align: right;\">\n",
       "      <th></th>\n",
       "      <th>id</th>\n",
       "      <th>premise</th>\n",
       "      <th>hypothesis</th>\n",
       "      <th>lang_abv</th>\n",
       "      <th>language</th>\n",
       "      <th>label</th>\n",
       "    </tr>\n",
       "  </thead>\n",
       "  <tbody>\n",
       "    <tr>\n",
       "      <th>0</th>\n",
       "      <td>5130fd2cb5</td>\n",
       "      <td>and these comments were considered in formulat...</td>\n",
       "      <td>The rules developed in the interim were put to...</td>\n",
       "      <td>en</td>\n",
       "      <td>English</td>\n",
       "      <td>0</td>\n",
       "    </tr>\n",
       "    <tr>\n",
       "      <th>1</th>\n",
       "      <td>5b72532a0b</td>\n",
       "      <td>These are issues that we wrestle with in pract...</td>\n",
       "      <td>Practice groups are not permitted to work on t...</td>\n",
       "      <td>en</td>\n",
       "      <td>English</td>\n",
       "      <td>2</td>\n",
       "    </tr>\n",
       "    <tr>\n",
       "      <th>2</th>\n",
       "      <td>3931fbe82a</td>\n",
       "      <td>Des petites choses comme celles-là font une di...</td>\n",
       "      <td>J'essayais d'accomplir quelque chose.</td>\n",
       "      <td>fr</td>\n",
       "      <td>French</td>\n",
       "      <td>0</td>\n",
       "    </tr>\n",
       "    <tr>\n",
       "      <th>3</th>\n",
       "      <td>5622f0c60b</td>\n",
       "      <td>you know they can't really defend themselves l...</td>\n",
       "      <td>They can't defend themselves because of their ...</td>\n",
       "      <td>en</td>\n",
       "      <td>English</td>\n",
       "      <td>0</td>\n",
       "    </tr>\n",
       "    <tr>\n",
       "      <th>4</th>\n",
       "      <td>86aaa48b45</td>\n",
       "      <td>ในการเล่นบทบาทสมมุติก็เช่นกัน โอกาสที่จะได้แสด...</td>\n",
       "      <td>เด็กสามารถเห็นได้ว่าชาติพันธุ์แตกต่างกันอย่างไร</td>\n",
       "      <td>th</td>\n",
       "      <td>Thai</td>\n",
       "      <td>1</td>\n",
       "    </tr>\n",
       "  </tbody>\n",
       "</table>\n",
       "</div>"
      ],
      "text/plain": [
       "           id                                            premise  \\\n",
       "0  5130fd2cb5  and these comments were considered in formulat...   \n",
       "1  5b72532a0b  These are issues that we wrestle with in pract...   \n",
       "2  3931fbe82a  Des petites choses comme celles-là font une di...   \n",
       "3  5622f0c60b  you know they can't really defend themselves l...   \n",
       "4  86aaa48b45  ในการเล่นบทบาทสมมุติก็เช่นกัน โอกาสที่จะได้แสด...   \n",
       "\n",
       "                                          hypothesis lang_abv language  label  \n",
       "0  The rules developed in the interim were put to...       en  English      0  \n",
       "1  Practice groups are not permitted to work on t...       en  English      2  \n",
       "2              J'essayais d'accomplir quelque chose.       fr   French      0  \n",
       "3  They can't defend themselves because of their ...       en  English      0  \n",
       "4    เด็กสามารถเห็นได้ว่าชาติพันธุ์แตกต่างกันอย่างไร       th     Thai      1  "
      ]
     },
     "execution_count": 2,
     "metadata": {},
     "output_type": "execute_result"
    }
   ],
   "source": [
    "train = pd.read_csv(\"../input/contradictory-my-dear-watson/train.csv\")\n",
    "test = pd.read_csv(\"../input/contradictory-my-dear-watson/test.csv\")\n",
    "labels = train[\"label\"].astype(\"int32\").to_numpy()\n",
    "train.head()"
   ]
  },
  {
   "cell_type": "markdown",
   "metadata": {},
   "source": [
    "# Exploratory Data Analysis (EDA)\n",
    "\n",
    "## Example Pair\n",
    "\n",
    "The pair below is contradictory."
   ]
  },
  {
   "cell_type": "code",
   "execution_count": 3,
   "metadata": {
    "execution": {
     "iopub.execute_input": "2025-08-17T16:46:17.505878Z",
     "iopub.status.busy": "2025-08-17T16:46:17.505636Z",
     "iopub.status.idle": "2025-08-17T16:46:17.511102Z",
     "shell.execute_reply": "2025-08-17T16:46:17.510321Z",
     "shell.execute_reply.started": "2025-08-17T16:46:17.505847Z"
    },
    "trusted": true
   },
   "outputs": [
    {
     "data": {
      "text/plain": [
       "'These are issues that we wrestle with in practice groups of law firms, she said. '"
      ]
     },
     "execution_count": 3,
     "metadata": {},
     "output_type": "execute_result"
    }
   ],
   "source": [
    "train.premise.values[1]"
   ]
  },
  {
   "cell_type": "code",
   "execution_count": 4,
   "metadata": {
    "execution": {
     "iopub.execute_input": "2025-08-17T16:46:17.512065Z",
     "iopub.status.busy": "2025-08-17T16:46:17.511873Z",
     "iopub.status.idle": "2025-08-17T16:46:17.528668Z",
     "shell.execute_reply": "2025-08-17T16:46:17.527864Z",
     "shell.execute_reply.started": "2025-08-17T16:46:17.512048Z"
    },
    "trusted": true
   },
   "outputs": [
    {
     "data": {
      "text/plain": [
       "'Practice groups are not permitted to work on these issues.'"
      ]
     },
     "execution_count": 4,
     "metadata": {},
     "output_type": "execute_result"
    }
   ],
   "source": [
    "train.hypothesis.values[1]"
   ]
  },
  {
   "cell_type": "code",
   "execution_count": 5,
   "metadata": {
    "execution": {
     "iopub.execute_input": "2025-08-17T16:46:17.530590Z",
     "iopub.status.busy": "2025-08-17T16:46:17.530379Z",
     "iopub.status.idle": "2025-08-17T16:46:17.548439Z",
     "shell.execute_reply": "2025-08-17T16:46:17.547683Z",
     "shell.execute_reply.started": "2025-08-17T16:46:17.530575Z"
    },
    "trusted": true
   },
   "outputs": [
    {
     "data": {
      "text/plain": [
       "2"
      ]
     },
     "execution_count": 5,
     "metadata": {},
     "output_type": "execute_result"
    }
   ],
   "source": [
    "train.label.values[1]"
   ]
  },
  {
   "cell_type": "markdown",
   "metadata": {},
   "source": [
    "## Language Distribution"
   ]
  },
  {
   "cell_type": "code",
   "execution_count": 6,
   "metadata": {
    "execution": {
     "iopub.execute_input": "2025-08-17T16:46:17.549250Z",
     "iopub.status.busy": "2025-08-17T16:46:17.549041Z",
     "iopub.status.idle": "2025-08-17T16:46:18.032229Z",
     "shell.execute_reply": "2025-08-17T16:46:18.031515Z",
     "shell.execute_reply.started": "2025-08-17T16:46:17.549235Z"
    },
    "trusted": true
   },
   "outputs": [
    {
     "data": {
      "image/png": "[encoded data removed]",
      "text/plain": [
       "<Figure size 1000x1000 with 1 Axes>"
      ]
     },
     "metadata": {},
     "output_type": "display_data"
    }
   ],
   "source": [
    "languages, counts = np.unique(train.language.values, return_counts=True)\n",
    "\n",
    "plt.figure(figsize=(10, 10))\n",
    "plt.pie(counts, labels=languages, autopct=\"%1.1f%%\")\n",
    "plt.show()"
   ]
  },
  {
   "cell_type": "markdown",
   "metadata": {},
   "source": [
    "## Avg Sentence Length by Language"
   ]
  },
  {
   "cell_type": "code",
   "execution_count": 7,
   "metadata": {
    "execution": {
     "iopub.execute_input": "2025-08-17T16:46:18.033373Z",
     "iopub.status.busy": "2025-08-17T16:46:18.033123Z",
     "iopub.status.idle": "2025-08-17T16:46:18.432890Z",
     "shell.execute_reply": "2025-08-17T16:46:18.432165Z",
     "shell.execute_reply.started": "2025-08-17T16:46:18.033355Z"
    },
    "trusted": true
   },
   "outputs": [
    {
     "data": {
      "text/html": [
       "<div>\n",
       "<style scoped>\n",
       "    .dataframe tbody tr th:only-of-type {\n",
       "        vertical-align: middle;\n",
       "    }\n",
       "\n",
       "    .dataframe tbody tr th {\n",
       "        vertical-align: top;\n",
       "    }\n",
       "\n",
       "    .dataframe thead th {\n",
       "        text-align: right;\n",
       "    }\n",
       "</style>\n",
       "<table border=\"1\" class=\"dataframe\">\n",
       "  <thead>\n",
       "    <tr style=\"text-align: right;\">\n",
       "      <th></th>\n",
       "      <th>p_len</th>\n",
       "      <th>h_len</th>\n",
       "    </tr>\n",
       "    <tr>\n",
       "      <th>language</th>\n",
       "      <th></th>\n",
       "      <th></th>\n",
       "    </tr>\n",
       "  </thead>\n",
       "  <tbody>\n",
       "    <tr>\n",
       "      <th>Vietnamese</th>\n",
       "      <td>25.166227</td>\n",
       "      <td>12.572559</td>\n",
       "    </tr>\n",
       "    <tr>\n",
       "      <th>Urdu</th>\n",
       "      <td>21.301837</td>\n",
       "      <td>11.162730</td>\n",
       "    </tr>\n",
       "    <tr>\n",
       "      <th>Hindi</th>\n",
       "      <td>21.131016</td>\n",
       "      <td>11.016043</td>\n",
       "    </tr>\n",
       "    <tr>\n",
       "      <th>French</th>\n",
       "      <td>19.787179</td>\n",
       "      <td>10.343590</td>\n",
       "    </tr>\n",
       "    <tr>\n",
       "      <th>Spanish</th>\n",
       "      <td>19.642077</td>\n",
       "      <td>9.863388</td>\n",
       "    </tr>\n",
       "    <tr>\n",
       "      <th>English</th>\n",
       "      <td>19.314119</td>\n",
       "      <td>9.938865</td>\n",
       "    </tr>\n",
       "    <tr>\n",
       "      <th>Greek</th>\n",
       "      <td>18.793011</td>\n",
       "      <td>9.258065</td>\n",
       "    </tr>\n",
       "    <tr>\n",
       "      <th>Bulgarian</th>\n",
       "      <td>17.891813</td>\n",
       "      <td>8.976608</td>\n",
       "    </tr>\n",
       "    <tr>\n",
       "      <th>German</th>\n",
       "      <td>17.433048</td>\n",
       "      <td>8.960114</td>\n",
       "    </tr>\n",
       "    <tr>\n",
       "      <th>Russian</th>\n",
       "      <td>16.279255</td>\n",
       "      <td>8.114362</td>\n",
       "    </tr>\n",
       "    <tr>\n",
       "      <th>Swahili</th>\n",
       "      <td>16.166234</td>\n",
       "      <td>7.854545</td>\n",
       "    </tr>\n",
       "    <tr>\n",
       "      <th>Arabic</th>\n",
       "      <td>16.147132</td>\n",
       "      <td>7.837905</td>\n",
       "    </tr>\n",
       "    <tr>\n",
       "      <th>Turkish</th>\n",
       "      <td>13.792023</td>\n",
       "      <td>7.022792</td>\n",
       "    </tr>\n",
       "    <tr>\n",
       "      <th>Thai</th>\n",
       "      <td>3.973046</td>\n",
       "      <td>1.614555</td>\n",
       "    </tr>\n",
       "    <tr>\n",
       "      <th>Chinese</th>\n",
       "      <td>1.279805</td>\n",
       "      <td>1.080292</td>\n",
       "    </tr>\n",
       "  </tbody>\n",
       "</table>\n",
       "</div>"
      ],
      "text/plain": [
       "                p_len      h_len\n",
       "language                        \n",
       "Vietnamese  25.166227  12.572559\n",
       "Urdu        21.301837  11.162730\n",
       "Hindi       21.131016  11.016043\n",
       "French      19.787179  10.343590\n",
       "Spanish     19.642077   9.863388\n",
       "English     19.314119   9.938865\n",
       "Greek       18.793011   9.258065\n",
       "Bulgarian   17.891813   8.976608\n",
       "German      17.433048   8.960114\n",
       "Russian     16.279255   8.114362\n",
       "Swahili     16.166234   7.854545\n",
       "Arabic      16.147132   7.837905\n",
       "Turkish     13.792023   7.022792\n",
       "Thai         3.973046   1.614555\n",
       "Chinese      1.279805   1.080292"
      ]
     },
     "metadata": {},
     "output_type": "display_data"
    },
    {
     "data": {
      "image/png": "[encoded data removed]",
      "text/plain": [
       "<Figure size 1200x400 with 1 Axes>"
      ]
     },
     "metadata": {},
     "output_type": "display_data"
    }
   ],
   "source": [
    "# Avg token lengths per language (premise & hypothesis)\n",
    "lens = (\n",
    "    train.assign(\n",
    "        p_len=train[\"premise\"].str.split().str.len(),\n",
    "        h_len=train[\"hypothesis\"].str.split().str.len(),\n",
    "    )\n",
    "    .groupby(\"language\")[[\"p_len\", \"h_len\"]]\n",
    "    .mean()\n",
    "    .sort_values(\"p_len\", ascending=False)\n",
    ")\n",
    "\n",
    "display(lens.head(20))\n",
    "ax = lens.plot(kind=\"bar\", figsize=(12, 4), rot=45, ylabel=\"avg tokens\")\n",
    "ax.set_title(\"Avg tokens per sentence by language\")\n",
    "plt.tight_layout()\n",
    "plt.show()"
   ]
  },
  {
   "cell_type": "markdown",
   "metadata": {},
   "source": [
    "# Preprocessing & Splits\n",
    "\n",
    "## Split the data"
   ]
  },
  {
   "cell_type": "code",
   "execution_count": 8,
   "metadata": {
    "execution": {
     "iopub.execute_input": "2025-08-17T16:46:18.433883Z",
     "iopub.status.busy": "2025-08-17T16:46:18.433588Z",
     "iopub.status.idle": "2025-08-17T16:46:18.443164Z",
     "shell.execute_reply": "2025-08-17T16:46:18.442384Z",
     "shell.execute_reply.started": "2025-08-17T16:46:18.433846Z"
    },
    "trusted": true
   },
   "outputs": [],
   "source": [
    "# Classic 80/20 split, stratified by label\n",
    "sss = StratifiedShuffleSplit(n_splits=1, test_size=0.2, random_state=SEED)\n",
    "idx_tr, idx_val = next(sss.split(np.zeros(len(labels)), labels))"
   ]
  },
  {
   "cell_type": "markdown",
   "metadata": {},
   "source": [
    "## Training parameters"
   ]
  },
  {
   "cell_type": "code",
   "execution_count": 9,
   "metadata": {
    "execution": {
     "iopub.execute_input": "2025-08-17T16:46:18.444405Z",
     "iopub.status.busy": "2025-08-17T16:46:18.444123Z",
     "iopub.status.idle": "2025-08-17T16:46:18.457638Z",
     "shell.execute_reply": "2025-08-17T16:46:18.456966Z",
     "shell.execute_reply.started": "2025-08-17T16:46:18.444381Z"
    },
    "trusted": true
   },
   "outputs": [],
   "source": [
    "EPOCHS = 10\n",
    "MAX_LEN = 128\n",
    "NUM_CLASSES = 3\n",
    "LABEL_SMOOTHING = 0.05\n",
    "\n",
    "# conservative per‑GPU batch that fits mBERT/XLM‑R on T4; DeBERTa v3 is heavier\n",
    "BATCH_PER_DEVICE_MAP = {\n",
    "    \"bert-base-multilingual-cased\": 16,\n",
    "    \"microsoft/mdeberta-v3-base\": 8,  # heavier, keep small\n",
    "    \"xlm-roberta-base\": 10,  # a touch lower\n",
    "}\n",
    "\n",
    "LR_MAP = {\n",
    "    \"bert-base-multilingual-cased\": 2e-5,\n",
    "    \"microsoft/mdeberta-v3-base\": 2e-5,\n",
    "    \"xlm-roberta-base\": 3e-5,  # bump helps XLM-R\n",
    "}\n",
    "\n",
    "CHECKPOINTS = [\n",
    "    \"bert-base-multilingual-cased\",\n",
    "    \"microsoft/mdeberta-v3-base\",\n",
    "    \"xlm-roberta-base\",\n",
    "]"
   ]
  },
  {
   "cell_type": "markdown",
   "metadata": {},
   "source": [
    "## Utilities"
   ]
  },
  {
   "cell_type": "code",
   "execution_count": null,
   "metadata": {
    "execution": {
     "iopub.execute_input": "2025-08-17T16:46:18.458807Z",
     "iopub.status.busy": "2025-08-17T16:46:18.458535Z",
     "iopub.status.idle": "2025-08-17T16:46:18.475598Z",
     "shell.execute_reply": "2025-08-17T16:46:18.475088Z",
     "shell.execute_reply.started": "2025-08-17T16:46:18.458786Z"
    },
    "trusted": true
   },
   "outputs": [],
   "source": [
    "AUTO = tf.data.AUTOTUNE\n",
    "\n",
    "\n",
    "def tokenize_pairs(\n",
    "    tokenizer, premises, hypotheses, max_len=MAX_LEN, return_tensors=\"np\"\n",
    "):\n",
    "    \"\"\"Tokenizes premise–hypothesis pairs for transformer encoders.\n",
    "\n",
    "    This helper wraps a Hugging Face tokenizer to produce fixed-length,\n",
    "    model-ready inputs for Natural Language Inference (NLI). It pads/truncates\n",
    "    both sequences to ``max_len`` and returns tensors/arrays according to\n",
    "    ``return_tensors``.\n",
    "\n",
    "    Args:\n",
    "      tokenizer: A Hugging Face tokenizer (e.g., ``AutoTokenizer`` instance)\n",
    "        that implements ``__call__`` for pair encoding.\n",
    "      premises: Sequence of strings (or a pandas ``Series``) containing the\n",
    "        premise texts.\n",
    "      hypotheses: Sequence of strings (or a pandas ``Series``) containing the\n",
    "        hypothesis texts.\n",
    "      max_len: Integer maximum sequence length to pad/truncate to. Must match\n",
    "        the input shape used to build the Keras model (e.g., ``MAX_LEN``).\n",
    "      return_tensors: One of {``\"np\"``, ``\"tf\"``, ``\"pt\"``}. Controls the\n",
    "        tensor backend of the returned encoding.\n",
    "\n",
    "    Returns:\n",
    "      A dict mapping feature names to arrays/tensors, typically including\n",
    "      ``\"input_ids\"`` and ``\"attention_mask\"`` and (for some models) optional\n",
    "      ``\"token_type_ids\"``. The value types depend on ``return_tensors``.\n",
    "\n",
    "    Notes:\n",
    "      * Padding mode is ``\"max_length\"`` to ensure a fixed-length batchable\n",
    "        shape.\n",
    "      * Truncation is applied to respect ``max_len``.\n",
    "    \"\"\"\n",
    "    return tokenizer(\n",
    "        list(premises),\n",
    "        list(hypotheses),\n",
    "        padding=\"max_length\",\n",
    "        truncation=True,\n",
    "        max_length=max_len,\n",
    "        return_tensors=return_tensors,\n",
    "    )\n",
    "\n",
    "\n",
    "def make_ds(enc, y=None, batch_size=32, train=True):\n",
    "    \"\"\"Builds a ``tf.data.Dataset`` from tokenized inputs (and labels).\n",
    "\n",
    "    Creates a dataset of feature dictionaries suitable for feeding a compiled\n",
    "    Keras model. If labels ``y`` are provided (integer class IDs), they are\n",
    "    converted to one-hot vectors of size ``NUM_CLASSES`` so that\n",
    "    ``CategoricalCrossentropy(from_logits=True, label_smoothing=...)`` can be\n",
    "    used consistently.\n",
    "\n",
    "    Args:\n",
    "      enc: Mapping from feature names to arrays/tensors (e.g., output of\n",
    "        :func:`tokenize_pairs`). Recognized keys are ``\"input_ids\"``,\n",
    "        ``\"attention_mask\"``, and optional ``\"token_type_ids\"``.\n",
    "      y: Optional 1D array-like of integer class labels with shape\n",
    "        ``(num_examples,)``. If ``None``, an unlabeled dataset is created.\n",
    "      batch_size: Integer batch size for the returned dataset.\n",
    "      train: If ``True``, the labeled dataset is shuffled with a fixed seed for\n",
    "        reproducibility. Ignored when ``y`` is ``None``.\n",
    "\n",
    "    Returns:\n",
    "      Tuple[tf.data.Dataset, List[str]]: A batched & prefetched dataset and the\n",
    "      ordered list of feature keys used to build model inputs.\n",
    "\n",
    "    Raises:\n",
    "      ValueError: If required feature keys are missing from ``enc``.\n",
    "\n",
    "    Notes:\n",
    "      * The dataset is prefetched with ``AUTO`` for pipeline efficiency.\n",
    "      * Shuffling uses ``SEED`` and the full dataset length for robust mixing.\n",
    "    \"\"\"\n",
    "    feature_keys = [\n",
    "        k for k in (\"input_ids\", \"attention_mask\", \"token_type_ids\") if k in enc\n",
    "    ]\n",
    "    x = {k: enc[k] for k in feature_keys}\n",
    "    if y is not None:\n",
    "        # One-hot labels so we can use CategoricalCrossentropy with label_smoothing\n",
    "        y_arr = tf.convert_to_tensor(y, dtype=tf.int32)\n",
    "        y_arr = tf.one_hot(y_arr, depth=NUM_CLASSES)\n",
    "        ds = tf.data.Dataset.from_tensor_slices((x, y_arr))\n",
    "        if train:\n",
    "            ds = ds.shuffle(len(y), seed=SEED, reshuffle_each_iteration=True)\n",
    "    else:\n",
    "        ds = tf.data.Dataset.from_tensor_slices(x)\n",
    "    return ds.batch(batch_size).prefetch(AUTO), feature_keys\n",
    "\n",
    "\n",
    "def load_tf_sequence_classifier(model_ckpt, num_labels=3):\n",
    "    \"\"\"Loads a TF sequence-classification model with a PyTorch fallback.\n",
    "\n",
    "    Attempts to load a ``TFAutoModelForSequenceClassification`` for the given\n",
    "    checkpoint. If native TensorFlow weights are unavailable, retries with\n",
    "    ``from_pt=True`` to convert from PyTorch weights on the fly.\n",
    "\n",
    "    Args:\n",
    "      model_ckpt: Model checkpoint name or local path understood by\n",
    "        ``transformers`` (e.g., ``\"microsoft/mdeberta-v3-base\"``).\n",
    "      num_labels: Number of target classes for the classification head.\n",
    "\n",
    "    Returns:\n",
    "      A ``TFAutoModelForSequenceClassification`` instance configured with\n",
    "      ``num_labels``.\n",
    "\n",
    "    Raises:\n",
    "      Any exception raised by Hugging Face Transformers if both the TF and\n",
    "      PyTorch loading paths fail. This function prints an informational message\n",
    "      before attempting the PyTorch fallback.\n",
    "    \"\"\"\n",
    "    try:\n",
    "        return TFAutoModelForSequenceClassification.from_pretrained(\n",
    "            model_ckpt, num_labels=num_labels\n",
    "        )\n",
    "    except Exception:\n",
    "        print(\n",
    "            f\"[Info] Native TF weights not found for {model_ckpt}. Trying from_pt=True …\"\n",
    "        )\n",
    "        return TFAutoModelForSequenceClassification.from_pretrained(\n",
    "            model_ckpt, num_labels=num_labels, from_pt=True\n",
    "        )"
   ]
  },
  {
   "cell_type": "markdown",
   "metadata": {},
   "source": [
    "# Baseline: TF-IDF + LinearSVC"
   ]
  },
  {
   "cell_type": "code",
   "execution_count": null,
   "metadata": {
    "execution": {
     "iopub.execute_input": "2025-08-17T16:46:18.476684Z",
     "iopub.status.busy": "2025-08-17T16:46:18.476432Z",
     "iopub.status.idle": "2025-08-17T16:46:19.929679Z",
     "shell.execute_reply": "2025-08-17T16:46:19.928951Z",
     "shell.execute_reply.started": "2025-08-17T16:46:18.476663Z"
    },
    "trusted": true
   },
   "outputs": [
    {
     "name": "stdout",
     "output_type": "stream",
     "text": [
      "TF-IDF LinearSVC val_acc = 0.2442\n"
     ]
    }
   ],
   "source": [
    "def join_pair(df):\n",
    "    \"\"\"Concatenates premise and hypothesis for classic bag-of-words baselines.\n",
    "\n",
    "    Produces a text input of the form ``\"<premise> [SEP] <hypothesis>\"`` used by\n",
    "    the TF‑IDF + LinearSVC baseline.\n",
    "\n",
    "    Args:\n",
    "      df: ``pandas.DataFrame`` containing ``\"premise\"`` and ``\"hypothesis\"``\n",
    "        columns.\n",
    "\n",
    "    Returns:\n",
    "      List[str]: Concatenated strings suitable for vectorization.\n",
    "    \"\"\"\n",
    "    return (df[\"premise\"] + \" [SEP] \" + df[\"hypothesis\"]).tolist()\n",
    "\n",
    "\n",
    "Xtr_txt = join_pair(train.loc[idx_tr])\n",
    "ytr = labels[idx_tr]\n",
    "Xva_txt = join_pair(train.loc[idx_val])\n",
    "yva = labels[idx_val]\n",
    "\n",
    "tfidf_svm = make_pipeline(\n",
    "    TfidfVectorizer(\n",
    "        ngram_range=(1, 2), max_features=200_000, token_pattern=r\"(?u)\\b\\w+\\b\"\n",
    "    ),\n",
    "    LinearSVC(),\n",
    ")\n",
    "tfidf_svm.fit(Xtr_txt, ytr)\n",
    "svm_val_acc = (tfidf_svm.predict(Xva_txt) == yva).mean()\n",
    "print(f\"TF-IDF LinearSVC val_acc = {svm_val_acc:.4f}\")"
   ]
  },
  {
   "cell_type": "markdown",
   "metadata": {},
   "source": [
    "# Transformer Training"
   ]
  },
  {
   "cell_type": "code",
   "execution_count": null,
   "metadata": {
    "execution": {
     "iopub.execute_input": "2025-08-17T16:46:19.930563Z",
     "iopub.status.busy": "2025-08-17T16:46:19.930367Z",
     "iopub.status.idle": "2025-08-17T17:53:55.383490Z",
     "shell.execute_reply": "2025-08-17T17:53:55.382847Z",
     "shell.execute_reply.started": "2025-08-17T16:46:19.930547Z"
    },
    "trusted": true
   },
   "outputs": [
    {
     "name": "stdout",
     "output_type": "stream",
     "text": [
      "\n",
      "===============================\n",
      "Training: bert-base-multilingual-cased\n",
      "===============================\n"
     ]
    },
    {
     "data": {
      "application/vnd.jupyter.widget-view+json": {
       "model_id": "72bfdd54fab04a2da2105fc3e2957c7f",
       "version_major": 2,
       "version_minor": 0
      },
      "text/plain": [
       "tokenizer_config.json:   0%|          | 0.00/49.0 [00:00<?, ?B/s]"
      ]
     },
     "metadata": {},
     "output_type": "display_data"
    },
    {
     "data": {
      "application/vnd.jupyter.widget-view+json": {
       "model_id": "180094b847244fec8b7da1ed72657b19",
       "version_major": 2,
       "version_minor": 0
      },
      "text/plain": [
       "config.json:   0%|          | 0.00/625 [00:00<?, ?B/s]"
      ]
     },
     "metadata": {},
     "output_type": "display_data"
    },
    {
     "data": {
      "application/vnd.jupyter.widget-view+json": {
       "model_id": "8008a1d9ac844dd49511d7fd9b68b61c",
       "version_major": 2,
       "version_minor": 0
      },
      "text/plain": [
       "vocab.txt:   0%|          | 0.00/996k [00:00<?, ?B/s]"
      ]
     },
     "metadata": {},
     "output_type": "display_data"
    },
    {
     "data": {
      "application/vnd.jupyter.widget-view+json": {
       "model_id": "598e892c99c64272aaefcdca6330962e",
       "version_major": 2,
       "version_minor": 0
      },
      "text/plain": [
       "tokenizer.json:   0%|          | 0.00/1.96M [00:00<?, ?B/s]"
      ]
     },
     "metadata": {},
     "output_type": "display_data"
    },
    {
     "data": {
      "application/vnd.jupyter.widget-view+json": {
       "model_id": "d2a79013cdde413baafc612a6257c830",
       "version_major": 2,
       "version_minor": 0
      },
      "text/plain": [
       "model.safetensors:   0%|          | 0.00/714M [00:00<?, ?B/s]"
      ]
     },
     "metadata": {},
     "output_type": "display_data"
    },
    {
     "name": "stdout",
     "output_type": "stream",
     "text": [
      "Epoch 1/10\n",
      "303/303 [==============================] - ETA: 0s - loss: 1.0279 - accuracy: 0.4610\n",
      "Epoch 1: val_accuracy improved from -inf to 0.63243, saving model to best_bert-base-multilingual-cased.weights.h5\n"
     ]
    },
    {
     "name": "stderr",
     "output_type": "stream",
     "text": [
      "/usr/local/lib/python3.11/dist-packages/transformers/generation/tf_utils.py:465: UserWarning: `seed_generator` is deprecated and will be removed in a future version.\n",
      "  warnings.warn(\"`seed_generator` is deprecated and will be removed in a future version.\", UserWarning)\n"
     ]
    },
    {
     "name": "stdout",
     "output_type": "stream",
     "text": [
      "303/303 [==============================] - 193s 421ms/step - loss: 1.0279 - accuracy: 0.4610 - val_loss: 0.8735 - val_accuracy: 0.6324\n",
      "Epoch 2/10\n",
      "303/303 [==============================] - ETA: 0s - loss: 0.7911 - accuracy: 0.6775\n",
      "Epoch 2: val_accuracy improved from 0.63243 to 0.67162, saving model to best_bert-base-multilingual-cased.weights.h5\n",
      "303/303 [==============================] - 120s 395ms/step - loss: 0.7911 - accuracy: 0.6775 - val_loss: 0.8044 - val_accuracy: 0.6716\n",
      "Epoch 3/10\n",
      "303/303 [==============================] - ETA: 0s - loss: 0.5787 - accuracy: 0.8060\n",
      "Epoch 3: val_accuracy did not improve from 0.67162\n",
      "303/303 [==============================] - 117s 385ms/step - loss: 0.5787 - accuracy: 0.8060 - val_loss: 0.8630 - val_accuracy: 0.6597\n",
      "Epoch 4/10\n",
      "303/303 [==============================] - ETA: 0s - loss: 0.4138 - accuracy: 0.8861\n",
      "Epoch 4: val_accuracy did not improve from 0.67162\n",
      "303/303 [==============================] - 117s 385ms/step - loss: 0.4138 - accuracy: 0.8861 - val_loss: 0.9976 - val_accuracy: 0.6568\n",
      "Epoch 5/10\n",
      "303/303 [==============================] - ETA: 0s - loss: 0.3080 - accuracy: 0.9385\n",
      "Epoch 5: val_accuracy did not improve from 0.67162\n",
      "303/303 [==============================] - 117s 385ms/step - loss: 0.3080 - accuracy: 0.9385 - val_loss: 1.1185 - val_accuracy: 0.6374\n",
      "\n",
      "===============================\n",
      "Training: microsoft/mdeberta-v3-base\n",
      "===============================\n"
     ]
    },
    {
     "data": {
      "application/vnd.jupyter.widget-view+json": {
       "model_id": "70ea300689c2413ca5d206920064445d",
       "version_major": 2,
       "version_minor": 0
      },
      "text/plain": [
       "tokenizer_config.json:   0%|          | 0.00/52.0 [00:00<?, ?B/s]"
      ]
     },
     "metadata": {},
     "output_type": "display_data"
    },
    {
     "data": {
      "application/vnd.jupyter.widget-view+json": {
       "model_id": "3d0dfcb208f94c32a736be5d625a522d",
       "version_major": 2,
       "version_minor": 0
      },
      "text/plain": [
       "config.json:   0%|          | 0.00/579 [00:00<?, ?B/s]"
      ]
     },
     "metadata": {},
     "output_type": "display_data"
    },
    {
     "data": {
      "application/vnd.jupyter.widget-view+json": {
       "model_id": "2770539eabe440a594a861306ab8815e",
       "version_major": 2,
       "version_minor": 0
      },
      "text/plain": [
       "spm.model:   0%|          | 0.00/4.31M [00:00<?, ?B/s]"
      ]
     },
     "metadata": {},
     "output_type": "display_data"
    },
    {
     "name": "stderr",
     "output_type": "stream",
     "text": [
      "/usr/local/lib/python3.11/dist-packages/transformers/convert_slow_tokenizer.py:564: UserWarning: The sentencepiece tokenizer that you are converting to a fast tokenizer uses the byte fallback option which is not implemented in the fast tokenizers. In practice this means that the fast version of the tokenizer can produce unknown tokens whereas the sentencepiece version would have converted these unknown tokens into a sequence of byte tokens matching the original piece of text.\n",
      "  warnings.warn(\n"
     ]
    },
    {
     "data": {
      "application/vnd.jupyter.widget-view+json": {
       "model_id": "05ca9ddff88e4b1fa89c3b6e00fb7c3e",
       "version_major": 2,
       "version_minor": 0
      },
      "text/plain": [
       "tf_model.h5:   0%|          | 0.00/1.11G [00:00<?, ?B/s]"
      ]
     },
     "metadata": {},
     "output_type": "display_data"
    },
    {
     "name": "stdout",
     "output_type": "stream",
     "text": [
      "Epoch 1/10\n",
      "606/606 [==============================] - ETA: 0s - loss: 1.0197 - accuracy: 0.4512\n",
      "Epoch 1: val_accuracy improved from -inf to 0.71452, saving model to best_microsoft_mdeberta-v3-base.weights.h5\n"
     ]
    },
    {
     "name": "stderr",
     "output_type": "stream",
     "text": [
      "/usr/local/lib/python3.11/dist-packages/transformers/generation/tf_utils.py:465: UserWarning: `seed_generator` is deprecated and will be removed in a future version.\n",
      "  warnings.warn(\"`seed_generator` is deprecated and will be removed in a future version.\", UserWarning)\n"
     ]
    },
    {
     "name": "stdout",
     "output_type": "stream",
     "text": [
      "606/606 [==============================] - 428s 527ms/step - loss: 1.0197 - accuracy: 0.4512 - val_loss: 0.7607 - val_accuracy: 0.7145\n",
      "Epoch 2/10\n",
      "606/606 [==============================] - ETA: 0s - loss: 0.6628 - accuracy: 0.7618\n",
      "Epoch 2: val_accuracy improved from 0.71452 to 0.77558, saving model to best_microsoft_mdeberta-v3-base.weights.h5\n",
      "606/606 [==============================] - 299s 494ms/step - loss: 0.6628 - accuracy: 0.7618 - val_loss: 0.6239 - val_accuracy: 0.7756\n",
      "Epoch 3/10\n",
      "606/606 [==============================] - ETA: 0s - loss: 0.4620 - accuracy: 0.8643\n",
      "Epoch 3: val_accuracy improved from 0.77558 to 0.78012, saving model to best_microsoft_mdeberta-v3-base.weights.h5\n",
      "606/606 [==============================] - 299s 493ms/step - loss: 0.4620 - accuracy: 0.8643 - val_loss: 0.6732 - val_accuracy: 0.7801\n",
      "Epoch 4/10\n",
      "606/606 [==============================] - ETA: 0s - loss: 0.3464 - accuracy: 0.9245\n",
      "Epoch 4: val_accuracy did not improve from 0.78012\n",
      "606/606 [==============================] - 294s 485ms/step - loss: 0.3464 - accuracy: 0.9245 - val_loss: 0.7020 - val_accuracy: 0.7785\n",
      "Epoch 5/10\n",
      "606/606 [==============================] - ETA: 0s - loss: 0.2779 - accuracy: 0.9547\n",
      "Epoch 5: val_accuracy improved from 0.78012 to 0.79125, saving model to best_microsoft_mdeberta-v3-base.weights.h5\n",
      "606/606 [==============================] - 300s 495ms/step - loss: 0.2779 - accuracy: 0.9547 - val_loss: 0.7700 - val_accuracy: 0.7913\n",
      "Epoch 6/10\n",
      "606/606 [==============================] - ETA: 0s - loss: 0.2408 - accuracy: 0.9732\n",
      "Epoch 6: val_accuracy did not improve from 0.79125\n",
      "606/606 [==============================] - 295s 487ms/step - loss: 0.2408 - accuracy: 0.9732 - val_loss: 0.7755 - val_accuracy: 0.7838\n",
      "Epoch 7/10\n",
      "606/606 [==============================] - ETA: 0s - loss: 0.2226 - accuracy: 0.9788\n",
      "Epoch 7: val_accuracy did not improve from 0.79125\n",
      "606/606 [==============================] - 295s 487ms/step - loss: 0.2226 - accuracy: 0.9788 - val_loss: 0.8048 - val_accuracy: 0.7896\n",
      "Epoch 8/10\n",
      "606/606 [==============================] - ETA: 0s - loss: 0.2085 - accuracy: 0.9855\n",
      "Epoch 8: val_accuracy did not improve from 0.79125\n",
      "606/606 [==============================] - 295s 486ms/step - loss: 0.2085 - accuracy: 0.9855 - val_loss: 0.8071 - val_accuracy: 0.7871\n",
      "\n",
      "===============================\n",
      "Training: xlm-roberta-base\n",
      "===============================\n"
     ]
    },
    {
     "data": {
      "application/vnd.jupyter.widget-view+json": {
       "model_id": "9b3b881e680d4af398ba8b77612bc603",
       "version_major": 2,
       "version_minor": 0
      },
      "text/plain": [
       "tokenizer_config.json:   0%|          | 0.00/25.0 [00:00<?, ?B/s]"
      ]
     },
     "metadata": {},
     "output_type": "display_data"
    },
    {
     "data": {
      "application/vnd.jupyter.widget-view+json": {
       "model_id": "04937dd8ee224498b3d66a40672c674a",
       "version_major": 2,
       "version_minor": 0
      },
      "text/plain": [
       "config.json:   0%|          | 0.00/615 [00:00<?, ?B/s]"
      ]
     },
     "metadata": {},
     "output_type": "display_data"
    },
    {
     "data": {
      "application/vnd.jupyter.widget-view+json": {
       "model_id": "0b487c3f790a4f01b5f2dbd8469c53cb",
       "version_major": 2,
       "version_minor": 0
      },
      "text/plain": [
       "sentencepiece.bpe.model:   0%|          | 0.00/5.07M [00:00<?, ?B/s]"
      ]
     },
     "metadata": {},
     "output_type": "display_data"
    },
    {
     "data": {
      "application/vnd.jupyter.widget-view+json": {
       "model_id": "d7c1ff3c491b488080d1fbdc853389ab",
       "version_major": 2,
       "version_minor": 0
      },
      "text/plain": [
       "tokenizer.json:   0%|          | 0.00/9.10M [00:00<?, ?B/s]"
      ]
     },
     "metadata": {},
     "output_type": "display_data"
    },
    {
     "data": {
      "application/vnd.jupyter.widget-view+json": {
       "model_id": "3b4e633faafb4a52a01f81875eef1425",
       "version_major": 2,
       "version_minor": 0
      },
      "text/plain": [
       "model.safetensors:   0%|          | 0.00/1.12G [00:00<?, ?B/s]"
      ]
     },
     "metadata": {},
     "output_type": "display_data"
    },
    {
     "name": "stdout",
     "output_type": "stream",
     "text": [
      "Epoch 1/10\n",
      "485/485 [==============================] - ETA: 0s - loss: 1.0987 - accuracy: 0.3472\n",
      "Epoch 1: val_accuracy improved from -inf to 0.34777, saving model to best_xlm-roberta-base.weights.h5\n"
     ]
    },
    {
     "name": "stderr",
     "output_type": "stream",
     "text": [
      "/usr/local/lib/python3.11/dist-packages/transformers/generation/tf_utils.py:465: UserWarning: `seed_generator` is deprecated and will be removed in a future version.\n",
      "  warnings.warn(\"`seed_generator` is deprecated and will be removed in a future version.\", UserWarning)\n"
     ]
    },
    {
     "name": "stdout",
     "output_type": "stream",
     "text": [
      "485/485 [==============================] - 259s 409ms/step - loss: 1.0987 - accuracy: 0.3472 - val_loss: 1.0976 - val_accuracy: 0.3478\n",
      "Epoch 2/10\n",
      "485/485 [==============================] - ETA: 0s - loss: 1.0986 - accuracy: 0.3530\n",
      "Epoch 2: val_accuracy did not improve from 0.34777\n",
      "485/485 [==============================] - 183s 378ms/step - loss: 1.0986 - accuracy: 0.3530 - val_loss: 1.0957 - val_accuracy: 0.3445\n",
      "Epoch 3/10\n",
      "485/485 [==============================] - ETA: 0s - loss: 1.1011 - accuracy: 0.3431\n",
      "Epoch 3: val_accuracy did not improve from 0.34777\n",
      "485/485 [==============================] - 183s 377ms/step - loss: 1.1011 - accuracy: 0.3431 - val_loss: 1.0987 - val_accuracy: 0.3445\n",
      "Epoch 4/10\n",
      "485/485 [==============================] - ETA: 0s - loss: 1.1003 - accuracy: 0.3432\n",
      "Epoch 4: val_accuracy did not improve from 0.34777\n",
      "485/485 [==============================] - 183s 377ms/step - loss: 1.1003 - accuracy: 0.3432 - val_loss: 1.1010 - val_accuracy: 0.3445\n"
     ]
    }
   ],
   "source": [
    "results = []\n",
    "saved_weight_files = {}  # Track best-weight files per model\n",
    "\n",
    "for ckpt in CHECKPOINTS:\n",
    "    print(\"\\n===============================\")\n",
    "    print(f\"Training: {ckpt}\")\n",
    "    print(\"===============================\")\n",
    "\n",
    "    tokenizer = AutoTokenizer.from_pretrained(ckpt, use_fast=True)\n",
    "\n",
    "    # Tokenize with the model's tokenizer\n",
    "    tr_enc = tokenize_pairs(\n",
    "        tokenizer,\n",
    "        train.loc[idx_tr, \"premise\"],\n",
    "        train.loc[idx_tr, \"hypothesis\"],\n",
    "        MAX_LEN,\n",
    "    )\n",
    "    va_enc = tokenize_pairs(\n",
    "        tokenizer,\n",
    "        train.loc[idx_val, \"premise\"],\n",
    "        train.loc[idx_val, \"hypothesis\"],\n",
    "        MAX_LEN,\n",
    "    )\n",
    "    te_enc = tokenize_pairs(\n",
    "        tokenizer,\n",
    "        test[\"premise\"],\n",
    "        test[\"hypothesis\"],\n",
    "        MAX_LEN,\n",
    "    )\n",
    "\n",
    "    # Build datasets (features adapt to presence/absence of token_type_ids)\n",
    "    per_device = BATCH_PER_DEVICE_MAP.get(ckpt, 12)\n",
    "    global_batch = per_device * strategy.num_replicas_in_sync\n",
    "    train_ds, feature_keys = make_ds(\n",
    "        tr_enc, y=labels[idx_tr], batch_size=global_batch, train=True\n",
    "    )\n",
    "    val_ds, _ = make_ds(va_enc, y=labels[idx_val], batch_size=global_batch, train=False)\n",
    "\n",
    "    steps_per_epoch = int(np.ceil(len(idx_tr) / global_batch))\n",
    "    total_steps = steps_per_epoch * EPOCHS\n",
    "    warmup_steps = int(0.1 * total_steps)\n",
    "\n",
    "    with strategy.scope():\n",
    "        optimizer, lr_schedule = create_optimizer(\n",
    "            init_lr=LR_MAP.get(ckpt, 2e-5),\n",
    "            num_train_steps=total_steps,\n",
    "            num_warmup_steps=warmup_steps,\n",
    "            weight_decay_rate=0.01,\n",
    "        )\n",
    "        base = load_tf_sequence_classifier(ckpt, num_labels=3)\n",
    "        # Plain Keras model; cast logits for AMP stability\n",
    "        inputs = {\n",
    "            k: tf.keras.Input(shape=(MAX_LEN,), dtype=tf.int32, name=k)\n",
    "            for k in feature_keys\n",
    "        }\n",
    "        logits = tf.cast(base(inputs).logits, tf.float32, name=\"logits_float32\")\n",
    "        model = tf.keras.Model(inputs=inputs, outputs=logits)\n",
    "        model.compile(\n",
    "            optimizer=optimizer,\n",
    "            loss=tf.keras.losses.CategoricalCrossentropy(\n",
    "                from_logits=True, label_smoothing=LABEL_SMOOTHING\n",
    "            ),\n",
    "            metrics=[tf.keras.metrics.CategoricalAccuracy(name=\"accuracy\")],\n",
    "        )\n",
    "\n",
    "    # Train\n",
    "    ckpt_file = f\"best_{ckpt.replace('/', '_')}.weights.h5\"\n",
    "    callbacks = [\n",
    "        tf.keras.callbacks.ModelCheckpoint(\n",
    "            ckpt_file,\n",
    "            monitor=\"val_accuracy\",\n",
    "            save_best_only=True,\n",
    "            save_weights_only=True,\n",
    "            verbose=1,\n",
    "        ),\n",
    "        tf.keras.callbacks.EarlyStopping(\n",
    "            monitor=\"val_accuracy\", patience=3, restore_best_weights=True\n",
    "        ),\n",
    "    ]\n",
    "    hist = model.fit(\n",
    "        train_ds,\n",
    "        validation_data=val_ds,\n",
    "        epochs=EPOCHS,\n",
    "        callbacks=callbacks,\n",
    "        verbose=1,\n",
    "    )\n",
    "\n",
    "    # Track metrics\n",
    "    val_acc_hist = hist.history[\"val_accuracy\"]\n",
    "    best_val = float(np.max(val_acc_hist))\n",
    "    best_epoch = int(np.argmax(val_acc_hist)) + 1\n",
    "\n",
    "    saved_weight_files[ckpt] = ckpt_file\n",
    "\n",
    "    try:\n",
    "        del model, base\n",
    "    except Exception:\n",
    "        pass\n",
    "    tf.keras.backend.clear_session()\n",
    "    gc.collect()\n",
    "\n",
    "    results.append(\n",
    "        {\n",
    "            \"model\": ckpt,\n",
    "            \"max_len\": MAX_LEN,\n",
    "            \"per_gpu_batch\": per_device,\n",
    "            \"global_batch\": global_batch,\n",
    "            \"best_val_acc\": best_val,\n",
    "            \"best_epoch\": best_epoch,\n",
    "        }\n",
    "    )"
   ]
  },
  {
   "cell_type": "markdown",
   "metadata": {},
   "source": [
    "# Model Selection"
   ]
  },
  {
   "cell_type": "code",
   "execution_count": 13,
   "metadata": {
    "execution": {
     "iopub.execute_input": "2025-08-17T17:53:55.389283Z",
     "iopub.status.busy": "2025-08-17T17:53:55.389033Z",
     "iopub.status.idle": "2025-08-17T17:54:14.481952Z",
     "shell.execute_reply": "2025-08-17T17:54:14.481313Z",
     "shell.execute_reply.started": "2025-08-17T17:53:55.389252Z"
    },
    "trusted": true
   },
   "outputs": [
    {
     "name": "stdout",
     "output_type": "stream",
     "text": [
      "\n",
      "Validation scoreboard:\n",
      "                           model  max_len  per_gpu_batch  global_batch  \\\n",
      "1    microsoft/mdeberta-v3-base      128              8            16   \n",
      "0  bert-base-multilingual-cased      128             16            32   \n",
      "2              xlm-roberta-base      128             10            20   \n",
      "\n",
      "   best_val_acc  best_epoch  \n",
      "1      0.791254           5  \n",
      "0      0.671617           2  \n",
      "2      0.347772           1  \n",
      "\n",
      "Best model: microsoft/mdeberta-v3-base — val_acc=0.7913 @ epoch 5\n"
     ]
    },
    {
     "name": "stderr",
     "output_type": "stream",
     "text": [
      "/usr/local/lib/python3.11/dist-packages/transformers/convert_slow_tokenizer.py:564: UserWarning: The sentencepiece tokenizer that you are converting to a fast tokenizer uses the byte fallback option which is not implemented in the fast tokenizers. In practice this means that the fast version of the tokenizer can produce unknown tokens whereas the sentencepiece version would have converted these unknown tokens into a sequence of byte tokens matching the original piece of text.\n",
      "  warnings.warn(\n",
      "/usr/local/lib/python3.11/dist-packages/transformers/generation/tf_utils.py:465: UserWarning: `seed_generator` is deprecated and will be removed in a future version.\n",
      "  warnings.warn(\"`seed_generator` is deprecated and will be removed in a future version.\", UserWarning)\n"
     ]
    }
   ],
   "source": [
    "scoreboard = pd.DataFrame(results).sort_values(\"best_val_acc\", ascending=False)\n",
    "print(\"\\nValidation scoreboard:\\n\", scoreboard)\n",
    "scoreboard.to_csv(\"model_val_scoreboard.csv\", index=False)\n",
    "\n",
    "best_row = scoreboard.iloc[0]\n",
    "best_ckpt = best_row[\"model\"]\n",
    "print(\n",
    "    f\"\\nBest model: {best_ckpt} — val_acc={best_row['best_val_acc']:.4f} @ epoch {best_row['best_epoch']}\"\n",
    ")\n",
    "\n",
    "# Load best transformer model\n",
    "per_device = BATCH_PER_DEVICE_MAP.get(best_ckpt, 12)\n",
    "global_batch = per_device * strategy.num_replicas_in_sync\n",
    "\n",
    "best_tokenizer = AutoTokenizer.from_pretrained(best_ckpt, use_fast=True)\n",
    "te_enc = tokenize_pairs(best_tokenizer, test[\"premise\"], test[\"hypothesis\"], MAX_LEN)\n",
    "feature_keys = [\n",
    "    k for k in (\"input_ids\", \"attention_mask\", \"token_type_ids\") if k in te_enc\n",
    "]\n",
    "\n",
    "with strategy.scope():\n",
    "    base = load_tf_sequence_classifier(best_ckpt, num_labels=3)\n",
    "    inputs = {\n",
    "        k: tf.keras.Input(shape=(MAX_LEN,), dtype=tf.int32, name=k)\n",
    "        for k in feature_keys\n",
    "    }\n",
    "    logits = tf.cast(base(inputs).logits, tf.float32)\n",
    "    best_model = tf.keras.Model(inputs=inputs, outputs=logits)\n",
    "    best_model.load_weights(saved_weight_files[best_ckpt])"
   ]
  },
  {
   "cell_type": "markdown",
   "metadata": {},
   "source": [
    "# Evaluation"
   ]
  },
  {
   "cell_type": "code",
   "execution_count": 14,
   "metadata": {
    "execution": {
     "iopub.execute_input": "2025-08-17T17:54:14.484445Z",
     "iopub.status.busy": "2025-08-17T17:54:14.484224Z",
     "iopub.status.idle": "2025-08-17T17:54:41.446519Z",
     "shell.execute_reply": "2025-08-17T17:54:41.445782Z",
     "shell.execute_reply.started": "2025-08-17T17:54:14.484430Z"
    },
    "trusted": true
   },
   "outputs": [
    {
     "name": "stdout",
     "output_type": "stream",
     "text": [
      "Per-language accuracy:\n",
      " lang\n",
      "Spanish       0.867470\n",
      "Vietnamese    0.835821\n",
      "French        0.813559\n",
      "English       0.813146\n",
      "Arabic        0.810127\n",
      "German        0.805970\n",
      "Greek         0.779221\n",
      "Russian       0.765957\n",
      "Bulgarian     0.760563\n",
      "Turkish       0.753846\n",
      "Chinese       0.737864\n",
      "Hindi         0.732558\n",
      "Thai          0.714286\n",
      "Swahili       0.666667\n",
      "Urdu          0.657143\n",
      "\n",
      "Macro avg: 0.7676\n"
     ]
    },
    {
     "name": "stderr",
     "output_type": "stream",
     "text": [
      "/tmp/ipykernel_113/3975729045.py:19: DeprecationWarning: DataFrameGroupBy.apply operated on the grouping columns. This behavior is deprecated, and in a future version of pandas the grouping columns will be excluded from the operation. Either pass `include_groups=False` to exclude the groupings or explicitly select the grouping columns after groupby to silence this warning.\n",
      "  .apply(lambda g: (g.y_true == g.y_pred).mean())\n"
     ]
    }
   ],
   "source": [
    "va_enc = tokenize_pairs(\n",
    "    best_tokenizer,\n",
    "    train.loc[idx_val, \"premise\"],\n",
    "    train.loc[idx_val, \"hypothesis\"],\n",
    "    MAX_LEN,\n",
    ")\n",
    "val_ds = (\n",
    "    tf.data.Dataset.from_tensor_slices({k: va_enc[k] for k in feature_keys})\n",
    "    .batch(global_batch)\n",
    "    .prefetch(AUTO)\n",
    ")\n",
    "val_logits = best_model.predict(val_ds, verbose=0)\n",
    "val_pred = np.argmax(val_logits, axis=-1)\n",
    "y_val = labels[idx_val]\n",
    "va_lang = train.loc[idx_val, \"language\"].values\n",
    "df_eval = pd.DataFrame({\"lang\": va_lang, \"y_true\": y_val, \"y_pred\": val_pred})\n",
    "per_lang_acc = (\n",
    "    df_eval.groupby(\"lang\")\n",
    "    .apply(lambda g: (g.y_true == g.y_pred).mean())\n",
    "    .sort_values(ascending=False)\n",
    ")\n",
    "print(\"Per-language accuracy:\\n\", per_lang_acc.to_string())\n",
    "print(f\"\\nMacro avg: {per_lang_acc.mean():.4f}\")"
   ]
  },
  {
   "cell_type": "markdown",
   "metadata": {},
   "source": [
    "## Confusion Matrix"
   ]
  },
  {
   "cell_type": "code",
   "execution_count": 15,
   "metadata": {
    "execution": {
     "iopub.execute_input": "2025-08-17T17:54:41.447477Z",
     "iopub.status.busy": "2025-08-17T17:54:41.447218Z",
     "iopub.status.idle": "2025-08-17T17:54:41.642474Z",
     "shell.execute_reply": "2025-08-17T17:54:41.641624Z",
     "shell.execute_reply.started": "2025-08-17T17:54:41.447450Z"
    },
    "trusted": true
   },
   "outputs": [
    {
     "data": {
      "image/png": "[encoded data removed]",
      "text/plain": [
       "<Figure size 640x480 with 2 Axes>"
      ]
     },
     "metadata": {},
     "output_type": "display_data"
    }
   ],
   "source": [
    "ConfusionMatrixDisplay.from_predictions(\n",
    "    y_val,\n",
    "    val_pred,\n",
    "    display_labels=[\"entailment\", \"neutral\", \"contradiction\"],\n",
    "    cmap=\"Blues\",\n",
    ")\n",
    "plt.title(\"Validation Confusion Matrix\")\n",
    "plt.show()"
   ]
  },
  {
   "cell_type": "markdown",
   "metadata": {},
   "source": [
    "# Inference on Test"
   ]
  },
  {
   "cell_type": "code",
   "execution_count": 16,
   "metadata": {
    "execution": {
     "iopub.execute_input": "2025-08-17T17:54:41.643857Z",
     "iopub.status.busy": "2025-08-17T17:54:41.643577Z",
     "iopub.status.idle": "2025-08-17T17:55:02.909997Z",
     "shell.execute_reply": "2025-08-17T17:55:02.909316Z",
     "shell.execute_reply.started": "2025-08-17T17:54:41.643829Z"
    },
    "trusted": true
   },
   "outputs": [
    {
     "name": "stdout",
     "output_type": "stream",
     "text": [
      "325/325 [==============================] - 21s 64ms/step\n",
      "Wrote submission.csv and model_val_scoreboard.csv\n"
     ]
    }
   ],
   "source": [
    "infer_ds = (\n",
    "    tf.data.Dataset.from_tensor_slices({k: te_enc[k] for k in feature_keys})\n",
    "    .batch(global_batch)\n",
    "    .prefetch(tf.data.AUTOTUNE)\n",
    ")\n",
    "logits = best_model.predict(infer_ds, verbose=1).squeeze()\n",
    "preds = tf.argmax(logits, axis=-1).numpy()\n",
    "\n",
    "submission = pd.DataFrame({\"id\": test[\"id\"], \"prediction\": preds})\n",
    "submission.to_csv(\"submission.csv\", index=False)\n",
    "print(\"Wrote submission.csv and model_val_scoreboard.csv\")"
   ]
  },
  {
   "cell_type": "markdown",
   "metadata": {},
   "source": [
    "# Packaging\n",
    "\n",
    "## Save tokenizer, wieghts, & TF SavedModel"
   ]
  },
  {
   "cell_type": "code",
   "execution_count": 18,
   "metadata": {
    "execution": {
     "iopub.execute_input": "2025-08-17T17:55:15.719315Z",
     "iopub.status.busy": "2025-08-17T17:55:15.718986Z",
     "iopub.status.idle": "2025-08-17T17:57:32.880304Z",
     "shell.execute_reply": "2025-08-17T17:57:32.879673Z",
     "shell.execute_reply.started": "2025-08-17T17:55:15.719263Z"
    },
    "trusted": true
   },
   "outputs": [
    {
     "name": "stderr",
     "output_type": "stream",
     "text": [
      "/usr/local/lib/python3.11/dist-packages/transformers/generation/tf_utils.py:465: UserWarning: `seed_generator` is deprecated and will be removed in a future version.\n",
      "  warnings.warn(\"`seed_generator` is deprecated and will be removed in a future version.\", UserWarning)\n"
     ]
    }
   ],
   "source": [
    "os.makedirs(\"export\", exist_ok=True)\n",
    "best_tokenizer.save_pretrained(\"export/tokenizer\")\n",
    "best_model.save_weights(\"export/best_model.weights.h5\")\n",
    "best_model.save(\"export/tf_saved_model\")"
   ]
  },
  {
   "cell_type": "markdown",
   "metadata": {},
   "source": [
    "## Small predict utility"
   ]
  },
  {
   "cell_type": "code",
   "execution_count": null,
   "metadata": {
    "execution": {
     "iopub.execute_input": "2025-08-17T17:57:32.882351Z",
     "iopub.status.busy": "2025-08-17T17:57:32.882059Z",
     "iopub.status.idle": "2025-08-17T17:57:34.598122Z",
     "shell.execute_reply": "2025-08-17T17:57:34.597347Z",
     "shell.execute_reply.started": "2025-08-17T17:57:32.882331Z"
    },
    "trusted": true
   },
   "outputs": [
    {
     "name": "stdout",
     "output_type": "stream",
     "text": [
      "predict_pair demo: entailment\n"
     ]
    }
   ],
   "source": [
    "ID2LAB = {0: \"entailment\", 1: \"neutral\", 2: \"contradiction\"}\n",
    "FEATURE_KEYS_BEST = tuple(feature_keys)\n",
    "\n",
    "\n",
    "def predict_pair(premise: str, hypothesis: str) -> int:\n",
    "    \"\"\"Runs a single NLI prediction using the globally loaded best model.\n",
    "\n",
    "    This utility pads/truncates inputs to ``MAX_LEN`` and forwards only the\n",
    "    feature keys the compiled model expects (e.g., XLM‑R does not use\n",
    "    ``token_type_ids``). It relies on the global ``best_tokenizer``,\n",
    "    ``best_model``, and ``FEATURE_KEYS_BEST`` prepared in the notebook.\n",
    "\n",
    "    Args:\n",
    "      premise: The premise sentence.\n",
    "      hypothesis: The hypothesis sentence.\n",
    "\n",
    "    Returns:\n",
    "      int: Predicted class ID where ``0=entailment``, ``1=neutral``,\n",
    "      ``2=contradiction``.\n",
    "\n",
    "    Raises:\n",
    "      RuntimeError: If the global model/tokenizer have not been initialized.\n",
    "      KeyError: If required feature keys are missing from the tokenizer output.\n",
    "\n",
    "    Example:\n",
    "      >>> ID2LAB = {0: \"entailment\", 1: \"neutral\", 2: \"contradiction\"}\n",
    "      >>> lab = ID2LAB[predict_pair(\"A dog is running.\", \"An animal is moving.\")]\n",
    "      >>> lab\n",
    "      'entailment'\n",
    "    \"\"\"\n",
    "    # Pad/truncate to the fixed length with which the model was built\n",
    "    enc = best_tokenizer(\n",
    "        premise,\n",
    "        hypothesis,\n",
    "        padding=\"max_length\",\n",
    "        truncation=True,\n",
    "        max_length=MAX_LEN,\n",
    "        return_tensors=\"tf\",\n",
    "    )\n",
    "    # Feed only the inputs the model expects (e.g., XLM-R has no token_type_ids)\n",
    "    feed = {k: enc[k] for k in FEATURE_KEYS_BEST}\n",
    "    logits = tf.cast(best_model(feed, training=False), tf.float32).numpy()[0]\n",
    "    return int(np.argmax(logits))\n",
    "\n",
    "\n",
    "print(\n",
    "    \"predict_pair demo:\",\n",
    "    ID2LAB[predict_pair(\"A dog is running.\", \"An animal is moving.\")],\n",
    ")"
   ]
  }
 ],
 "metadata": {
  "kaggle": {
   "accelerator": "nvidiaTeslaT4",
   "dataSources": [
    {
     "databundleVersionId": 1408234,
     "sourceId": 21733,
     "sourceType": "competition"
    }
   ],
   "dockerImageVersionId": 31089,
   "isGpuEnabled": true,
   "isInternetEnabled": true,
   "language": "python",
   "sourceType": "notebook"
  },
  "kernelspec": {
   "display_name": "Python 3",
   "language": "python",
   "name": "python3"
  },
  "language_info": {
   "codemirror_mode": {
    "name": "ipython",
    "version": 3
   },
   "file_extension": ".py",
   "mimetype": "text/x-python",
   "name": "python",
   "nbconvert_exporter": "python",
   "pygments_lexer": "ipython3",
   "version": "3.11.13"
  }
 },
 "nbformat": 4,
 "nbformat_minor": 4
}
