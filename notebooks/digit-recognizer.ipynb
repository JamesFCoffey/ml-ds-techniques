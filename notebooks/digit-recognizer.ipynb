{
 "cells": [
  {
   "cell_type": "markdown",
   "metadata": {},
   "source": [
    "# Project Title: Digit Recognizer\n",
    "#### Author: James Coffey\n",
    "#### Date: 2025-07-28\n",
    "#### Challenge URL: [Digit Recognizer](https://www.kaggle.com/competitions/digit-recognizer)"
   ]
  },
  {
   "cell_type": "code",
   "execution_count": null,
   "metadata": {
    "execution": {
     "iopub.execute_input": "2025-07-28T22:45:32.330768Z",
     "iopub.status.busy": "2025-07-28T22:45:32.330417Z",
     "iopub.status.idle": "2025-07-28T22:45:36.746292Z",
     "shell.execute_reply": "2025-07-28T22:45:36.745516Z",
     "shell.execute_reply.started": "2025-07-28T22:45:32.330737Z"
    },
    "trusted": true
   },
   "outputs": [
    {
     "name": "stderr",
     "output_type": "stream",
     "text": [
      "2025-07-28 22:45:33.643711: E external/local_xla/xla/stream_executor/cuda/cuda_fft.cc:477] Unable to register cuFFT factory: Attempting to register factory for plugin cuFFT when one has already been registered\n",
      "WARNING: All log messages before absl::InitializeLog() is called are written to STDERR\n",
      "E0000 00:00:1753742733.667819   19856 cuda_dnn.cc:8310] Unable to register cuDNN factory: Attempting to register factory for plugin cuDNN when one has already been registered\n",
      "E0000 00:00:1753742733.674994   19856 cuda_blas.cc:1418] Unable to register cuBLAS factory: Attempting to register factory for plugin cuBLAS when one has already been registered\n"
     ]
    }
   ],
   "source": [
    "# Basic libraries\n",
    "import numpy as np, pandas as pd, matplotlib.pyplot as plt, seaborn as sns\n",
    "from pathlib import Path\n",
    "from collections import Counter\n",
    "from sklearn.model_selection import train_test_split, StratifiedKFold\n",
    "from sklearn.metrics import accuracy_score, confusion_matrix, ConfusionMatrixDisplay\n",
    "from sklearn.preprocessing import MinMaxScaler, StandardScaler\n",
    "\n",
    "# Classical ML\n",
    "from sklearn.neighbors import KNeighborsClassifier\n",
    "from sklearn.decomposition import PCA\n",
    "from sklearn.pipeline import Pipeline\n",
    "from sklearn.svm import LinearSVC, SVC\n",
    "\n",
    "# Deep Learning\n",
    "import tensorflow as tf\n",
    "from tensorflow.keras import layers, models, callbacks\n",
    "import keras_tuner as kt\n",
    "from keras_tuner import BayesianOptimization\n",
    "\n",
    "# Utility\n",
    "SEED = 42\n",
    "np.random.seed(SEED)\n",
    "tf.random.set_seed(SEED)\n",
    "DATA = Path('/kaggle/input/digit-recognizer')"
   ]
  },
  {
   "cell_type": "markdown",
   "metadata": {},
   "source": [
    "# Dataset Access & Overview"
   ]
  },
  {
   "cell_type": "code",
   "execution_count": 2,
   "metadata": {
    "execution": {
     "iopub.execute_input": "2025-07-28T22:45:36.748091Z",
     "iopub.status.busy": "2025-07-28T22:45:36.747449Z",
     "iopub.status.idle": "2025-07-28T22:45:40.371624Z",
     "shell.execute_reply": "2025-07-28T22:45:40.370883Z",
     "shell.execute_reply.started": "2025-07-28T22:45:36.748059Z"
    },
    "trusted": true
   },
   "outputs": [
    {
     "name": "stdout",
     "output_type": "stream",
     "text": [
      "(42000, 785) (28000, 784)\n"
     ]
    },
    {
     "data": {
      "text/html": [
       "<div>\n",
       "<style scoped>\n",
       "    .dataframe tbody tr th:only-of-type {\n",
       "        vertical-align: middle;\n",
       "    }\n",
       "\n",
       "    .dataframe tbody tr th {\n",
       "        vertical-align: top;\n",
       "    }\n",
       "\n",
       "    .dataframe thead th {\n",
       "        text-align: right;\n",
       "    }\n",
       "</style>\n",
       "<table border=\"1\" class=\"dataframe\">\n",
       "  <thead>\n",
       "    <tr style=\"text-align: right;\">\n",
       "      <th></th>\n",
       "      <th>label</th>\n",
       "      <th>pixel0</th>\n",
       "      <th>pixel1</th>\n",
       "      <th>pixel2</th>\n",
       "      <th>pixel3</th>\n",
       "      <th>pixel4</th>\n",
       "      <th>pixel5</th>\n",
       "      <th>pixel6</th>\n",
       "      <th>pixel7</th>\n",
       "      <th>pixel8</th>\n",
       "      <th>...</th>\n",
       "      <th>pixel774</th>\n",
       "      <th>pixel775</th>\n",
       "      <th>pixel776</th>\n",
       "      <th>pixel777</th>\n",
       "      <th>pixel778</th>\n",
       "      <th>pixel779</th>\n",
       "      <th>pixel780</th>\n",
       "      <th>pixel781</th>\n",
       "      <th>pixel782</th>\n",
       "      <th>pixel783</th>\n",
       "    </tr>\n",
       "  </thead>\n",
       "  <tbody>\n",
       "    <tr>\n",
       "      <th>0</th>\n",
       "      <td>1</td>\n",
       "      <td>0</td>\n",
       "      <td>0</td>\n",
       "      <td>0</td>\n",
       "      <td>0</td>\n",
       "      <td>0</td>\n",
       "      <td>0</td>\n",
       "      <td>0</td>\n",
       "      <td>0</td>\n",
       "      <td>0</td>\n",
       "      <td>...</td>\n",
       "      <td>0</td>\n",
       "      <td>0</td>\n",
       "      <td>0</td>\n",
       "      <td>0</td>\n",
       "      <td>0</td>\n",
       "      <td>0</td>\n",
       "      <td>0</td>\n",
       "      <td>0</td>\n",
       "      <td>0</td>\n",
       "      <td>0</td>\n",
       "    </tr>\n",
       "    <tr>\n",
       "      <th>1</th>\n",
       "      <td>0</td>\n",
       "      <td>0</td>\n",
       "      <td>0</td>\n",
       "      <td>0</td>\n",
       "      <td>0</td>\n",
       "      <td>0</td>\n",
       "      <td>0</td>\n",
       "      <td>0</td>\n",
       "      <td>0</td>\n",
       "      <td>0</td>\n",
       "      <td>...</td>\n",
       "      <td>0</td>\n",
       "      <td>0</td>\n",
       "      <td>0</td>\n",
       "      <td>0</td>\n",
       "      <td>0</td>\n",
       "      <td>0</td>\n",
       "      <td>0</td>\n",
       "      <td>0</td>\n",
       "      <td>0</td>\n",
       "      <td>0</td>\n",
       "    </tr>\n",
       "    <tr>\n",
       "      <th>2</th>\n",
       "      <td>1</td>\n",
       "      <td>0</td>\n",
       "      <td>0</td>\n",
       "      <td>0</td>\n",
       "      <td>0</td>\n",
       "      <td>0</td>\n",
       "      <td>0</td>\n",
       "      <td>0</td>\n",
       "      <td>0</td>\n",
       "      <td>0</td>\n",
       "      <td>...</td>\n",
       "      <td>0</td>\n",
       "      <td>0</td>\n",
       "      <td>0</td>\n",
       "      <td>0</td>\n",
       "      <td>0</td>\n",
       "      <td>0</td>\n",
       "      <td>0</td>\n",
       "      <td>0</td>\n",
       "      <td>0</td>\n",
       "      <td>0</td>\n",
       "    </tr>\n",
       "    <tr>\n",
       "      <th>3</th>\n",
       "      <td>4</td>\n",
       "      <td>0</td>\n",
       "      <td>0</td>\n",
       "      <td>0</td>\n",
       "      <td>0</td>\n",
       "      <td>0</td>\n",
       "      <td>0</td>\n",
       "      <td>0</td>\n",
       "      <td>0</td>\n",
       "      <td>0</td>\n",
       "      <td>...</td>\n",
       "      <td>0</td>\n",
       "      <td>0</td>\n",
       "      <td>0</td>\n",
       "      <td>0</td>\n",
       "      <td>0</td>\n",
       "      <td>0</td>\n",
       "      <td>0</td>\n",
       "      <td>0</td>\n",
       "      <td>0</td>\n",
       "      <td>0</td>\n",
       "    </tr>\n",
       "    <tr>\n",
       "      <th>4</th>\n",
       "      <td>0</td>\n",
       "      <td>0</td>\n",
       "      <td>0</td>\n",
       "      <td>0</td>\n",
       "      <td>0</td>\n",
       "      <td>0</td>\n",
       "      <td>0</td>\n",
       "      <td>0</td>\n",
       "      <td>0</td>\n",
       "      <td>0</td>\n",
       "      <td>...</td>\n",
       "      <td>0</td>\n",
       "      <td>0</td>\n",
       "      <td>0</td>\n",
       "      <td>0</td>\n",
       "      <td>0</td>\n",
       "      <td>0</td>\n",
       "      <td>0</td>\n",
       "      <td>0</td>\n",
       "      <td>0</td>\n",
       "      <td>0</td>\n",
       "    </tr>\n",
       "  </tbody>\n",
       "</table>\n",
       "<p>5 rows × 785 columns</p>\n",
       "</div>"
      ],
      "text/plain": [
       "   label  pixel0  pixel1  pixel2  pixel3  pixel4  pixel5  pixel6  pixel7  \\\n",
       "0      1       0       0       0       0       0       0       0       0   \n",
       "1      0       0       0       0       0       0       0       0       0   \n",
       "2      1       0       0       0       0       0       0       0       0   \n",
       "3      4       0       0       0       0       0       0       0       0   \n",
       "4      0       0       0       0       0       0       0       0       0   \n",
       "\n",
       "   pixel8  ...  pixel774  pixel775  pixel776  pixel777  pixel778  pixel779  \\\n",
       "0       0  ...         0         0         0         0         0         0   \n",
       "1       0  ...         0         0         0         0         0         0   \n",
       "2       0  ...         0         0         0         0         0         0   \n",
       "3       0  ...         0         0         0         0         0         0   \n",
       "4       0  ...         0         0         0         0         0         0   \n",
       "\n",
       "   pixel780  pixel781  pixel782  pixel783  \n",
       "0         0         0         0         0  \n",
       "1         0         0         0         0  \n",
       "2         0         0         0         0  \n",
       "3         0         0         0         0  \n",
       "4         0         0         0         0  \n",
       "\n",
       "[5 rows x 785 columns]"
      ]
     },
     "execution_count": 2,
     "metadata": {},
     "output_type": "execute_result"
    }
   ],
   "source": [
    "train_df = pd.read_csv(DATA/'train.csv')\n",
    "test_df  = pd.read_csv(DATA/'test.csv')\n",
    "\n",
    "print(train_df.shape, test_df.shape)\n",
    "train_df.head()"
   ]
  },
  {
   "cell_type": "markdown",
   "metadata": {},
   "source": [
    "## Sanity checks\n",
    "\n",
    "### NaNs"
   ]
  },
  {
   "cell_type": "code",
   "execution_count": null,
   "metadata": {},
   "outputs": [],
   "source": [
    "assert not train_df.isna().any().any(), \"Missing values detected in train\"\n",
    "assert not test_df.isna().any().any(),  \"Missing values detected in test\""
   ]
  },
  {
   "cell_type": "markdown",
   "metadata": {},
   "source": [
    "### Pixel range"
   ]
  },
  {
   "cell_type": "code",
   "execution_count": null,
   "metadata": {},
   "outputs": [],
   "source": [
    "pixels = train_df.drop('label', axis=1)\n",
    "assert pixels.min().min() >= 0 and pixels.max().max() <= 255, \"Pixel out of 0-255 range\""
   ]
  },
  {
   "cell_type": "markdown",
   "metadata": {},
   "source": [
    "### Duplicates"
   ]
  },
  {
   "cell_type": "code",
   "execution_count": null,
   "metadata": {
    "execution": {
     "iopub.execute_input": "2025-07-28T22:45:40.372700Z",
     "iopub.status.busy": "2025-07-28T22:45:40.372389Z",
     "iopub.status.idle": "2025-07-28T22:45:40.983459Z",
     "shell.execute_reply": "2025-07-28T22:45:40.982539Z",
     "shell.execute_reply.started": "2025-07-28T22:45:40.372673Z"
    },
    "trusted": true
   },
   "outputs": [
    {
     "name": "stdout",
     "output_type": "stream",
     "text": [
      "Exact duplicate images in train: 0\n"
     ]
    }
   ],
   "source": [
    "dup_mask = pixels.duplicated(keep='first')\n",
    "print(f'Exact duplicate images in train: {dup_mask.sum()}')"
   ]
  },
  {
   "cell_type": "markdown",
   "metadata": {},
   "source": [
    "## Label distribution"
   ]
  },
  {
   "cell_type": "code",
   "execution_count": null,
   "metadata": {
    "execution": {
     "iopub.execute_input": "2025-07-28T22:45:40.984503Z",
     "iopub.status.busy": "2025-07-28T22:45:40.984277Z",
     "iopub.status.idle": "2025-07-28T22:45:41.153443Z",
     "shell.execute_reply": "2025-07-28T22:45:41.152591Z",
     "shell.execute_reply.started": "2025-07-28T22:45:40.984484Z"
    },
    "trusted": true
   },
   "outputs": [
    {
     "data": {
      "image/png": "[encoded data removed]",
      "text/plain": [
       "<Figure size 640x480 with 1 Axes>"
      ]
     },
     "metadata": {},
     "output_type": "display_data"
    }
   ],
   "source": [
    "sns.countplot(x=train_df.label); plt.title('Balanced?')\n",
    "plt.show()"
   ]
  },
  {
   "cell_type": "markdown",
   "metadata": {},
   "source": [
    "##  Convert to image tensors"
   ]
  },
  {
   "cell_type": "code",
   "execution_count": null,
   "metadata": {
    "execution": {
     "iopub.execute_input": "2025-07-28T22:45:41.157421Z",
     "iopub.status.busy": "2025-07-28T22:45:41.156843Z",
     "iopub.status.idle": "2025-07-28T22:45:41.396297Z",
     "shell.execute_reply": "2025-07-28T22:45:41.395568Z",
     "shell.execute_reply.started": "2025-07-28T22:45:41.157399Z"
    },
    "trusted": true
   },
   "outputs": [],
   "source": [
    "X = train_df.drop('label', axis=1).values.reshape(-1,28,28,1).astype('float32') / 255.\n",
    "y = train_df.label.values\n",
    "X_test = test_df.values.reshape(-1,28,28,1).astype('float32') / 255."
   ]
  },
  {
   "cell_type": "markdown",
   "metadata": {},
   "source": [
    "## Findings\n",
    "\n",
    "* Train missing: 0\n",
    "* Test missing: 0\n",
    "* A roughly uniform bar chart over digits 0–9\n",
    "* Pixel values range from 0 to 255\n",
    "* Number of exact-duplicate images in train: 0"
   ]
  },
  {
   "cell_type": "markdown",
   "metadata": {},
   "source": [
    "# Quick Quality Checks"
   ]
  },
  {
   "cell_type": "code",
   "execution_count": null,
   "metadata": {},
   "outputs": [],
   "source": [
    "assert X.min()>=0 and X.max()<=1, \"Pixel range outside 0-1!\""
   ]
  },
  {
   "cell_type": "markdown",
   "metadata": {},
   "source": [
    "## Visual sanity-check"
   ]
  },
  {
   "cell_type": "code",
   "execution_count": null,
   "metadata": {
    "execution": {
     "iopub.execute_input": "2025-07-28T22:45:41.397448Z",
     "iopub.status.busy": "2025-07-28T22:45:41.397167Z",
     "iopub.status.idle": "2025-07-28T22:45:42.631214Z",
     "shell.execute_reply": "2025-07-28T22:45:42.630268Z",
     "shell.execute_reply.started": "2025-07-28T22:45:41.397418Z"
    },
    "trusted": true
   },
   "outputs": [
    {
     "data": {
      "image/png": "[encoded data removed]",
      "text/plain": [
       "<Figure size 400x400 with 25 Axes>"
      ]
     },
     "metadata": {},
     "output_type": "display_data"
    }
   ],
   "source": [
    "fig, axs = plt.subplots(5,5, figsize=(4,4))\n",
    "for ax, img, label in zip(axs.flat, X[:25], y[:25]):\n",
    "    ax.imshow(img.squeeze(), cmap='gray'); ax.set_title(label); ax.axis('off')\n",
    "plt.tight_layout()"
   ]
  },
  {
   "cell_type": "markdown",
   "metadata": {},
   "source": [
    "# Mini-EDA"
   ]
  },
  {
   "cell_type": "code",
   "execution_count": 7,
   "metadata": {
    "execution": {
     "iopub.execute_input": "2025-07-28T22:45:42.632178Z",
     "iopub.status.busy": "2025-07-28T22:45:42.631958Z",
     "iopub.status.idle": "2025-07-28T22:45:43.248026Z",
     "shell.execute_reply": "2025-07-28T22:45:43.247228Z",
     "shell.execute_reply.started": "2025-07-28T22:45:42.632160Z"
    },
    "trusted": true
   },
   "outputs": [
    {
     "data": {
      "image/png": "[encoded data removed]",
      "text/plain": [
       "<Figure size 600x300 with 4 Axes>"
      ]
     },
     "metadata": {},
     "output_type": "display_data"
    }
   ],
   "source": [
    "mean_img = X.mean(axis=0).squeeze()\n",
    "std_img  = X.std(axis=0).squeeze()\n",
    "\n",
    "fig, ax = plt.subplots(1,2, figsize=(6,3))\n",
    "sns.heatmap(mean_img, ax=ax[0], cmap='magma');  ax[0].set_title('Mean intensity')\n",
    "sns.heatmap(std_img , ax=ax[1], cmap='magma');  ax[1].set_title('Std deviation')\n",
    "plt.show()"
   ]
  },
  {
   "cell_type": "markdown",
   "metadata": {},
   "source": [
    "## Ink centroid per digit"
   ]
  },
  {
   "cell_type": "code",
   "execution_count": null,
   "metadata": {
    "execution": {
     "iopub.execute_input": "2025-07-28T22:45:43.249303Z",
     "iopub.status.busy": "2025-07-28T22:45:43.248913Z",
     "iopub.status.idle": "2025-07-28T22:45:43.475195Z",
     "shell.execute_reply": "2025-07-28T22:45:43.474371Z",
     "shell.execute_reply.started": "2025-07-28T22:45:43.249280Z"
    },
    "trusted": true
   },
   "outputs": [
    {
     "data": {
      "text/html": [
       "<div>\n",
       "<style scoped>\n",
       "    .dataframe tbody tr th:only-of-type {\n",
       "        vertical-align: middle;\n",
       "    }\n",
       "\n",
       "    .dataframe tbody tr th {\n",
       "        vertical-align: top;\n",
       "    }\n",
       "\n",
       "    .dataframe thead th {\n",
       "        text-align: right;\n",
       "    }\n",
       "</style>\n",
       "<table border=\"1\" class=\"dataframe\">\n",
       "  <thead>\n",
       "    <tr style=\"text-align: right;\">\n",
       "      <th></th>\n",
       "      <th>row</th>\n",
       "      <th>col</th>\n",
       "    </tr>\n",
       "  </thead>\n",
       "  <tbody>\n",
       "    <tr>\n",
       "      <th>0</th>\n",
       "      <td>13.903333</td>\n",
       "      <td>14.233333</td>\n",
       "    </tr>\n",
       "    <tr>\n",
       "      <th>1</th>\n",
       "      <td>13.520548</td>\n",
       "      <td>14.095890</td>\n",
       "    </tr>\n",
       "    <tr>\n",
       "      <th>2</th>\n",
       "      <td>13.824916</td>\n",
       "      <td>14.107744</td>\n",
       "    </tr>\n",
       "    <tr>\n",
       "      <th>3</th>\n",
       "      <td>13.967033</td>\n",
       "      <td>13.794872</td>\n",
       "    </tr>\n",
       "    <tr>\n",
       "      <th>4</th>\n",
       "      <td>13.896552</td>\n",
       "      <td>14.057471</td>\n",
       "    </tr>\n",
       "    <tr>\n",
       "      <th>5</th>\n",
       "      <td>13.979021</td>\n",
       "      <td>14.192308</td>\n",
       "    </tr>\n",
       "    <tr>\n",
       "      <th>6</th>\n",
       "      <td>13.095057</td>\n",
       "      <td>14.144487</td>\n",
       "    </tr>\n",
       "    <tr>\n",
       "      <th>7</th>\n",
       "      <td>14.500000</td>\n",
       "      <td>13.642857</td>\n",
       "    </tr>\n",
       "    <tr>\n",
       "      <th>8</th>\n",
       "      <td>14.035714</td>\n",
       "      <td>14.067857</td>\n",
       "    </tr>\n",
       "    <tr>\n",
       "      <th>9</th>\n",
       "      <td>14.743802</td>\n",
       "      <td>13.913223</td>\n",
       "    </tr>\n",
       "  </tbody>\n",
       "</table>\n",
       "</div>"
      ],
      "text/plain": [
       "         row        col\n",
       "0  13.903333  14.233333\n",
       "1  13.520548  14.095890\n",
       "2  13.824916  14.107744\n",
       "3  13.967033  13.794872\n",
       "4  13.896552  14.057471\n",
       "5  13.979021  14.192308\n",
       "6  13.095057  14.144487\n",
       "7  14.500000  13.642857\n",
       "8  14.035714  14.067857\n",
       "9  14.743802  13.913223"
      ]
     },
     "execution_count": 8,
     "metadata": {},
     "output_type": "execute_result"
    }
   ],
   "source": [
    "centroids = {}\n",
    "for d in range(10):\n",
    "    mask = y==d\n",
    "    xs, ys = np.where(X[mask].mean(axis=0).squeeze()>0.1)\n",
    "    centroids[d] = (xs.mean(), ys.mean())\n",
    "pd.DataFrame(centroids, index=['row','col']).T"
   ]
  },
  {
   "cell_type": "markdown",
   "metadata": {},
   "source": [
    "# Baselines"
   ]
  },
  {
   "cell_type": "code",
   "execution_count": 9,
   "metadata": {
    "execution": {
     "iopub.execute_input": "2025-07-28T22:45:43.476478Z",
     "iopub.status.busy": "2025-07-28T22:45:43.476186Z",
     "iopub.status.idle": "2025-07-28T22:45:43.480132Z",
     "shell.execute_reply": "2025-07-28T22:45:43.479514Z",
     "shell.execute_reply.started": "2025-07-28T22:45:43.476446Z"
    },
    "trusted": true
   },
   "outputs": [],
   "source": [
    "# Flatten once\n",
    "X_flat = X.reshape(len(X), -1)"
   ]
  },
  {
   "cell_type": "markdown",
   "metadata": {},
   "source": [
    "## K-Nearest Neighbors"
   ]
  },
  {
   "cell_type": "code",
   "execution_count": null,
   "metadata": {
    "execution": {
     "iopub.execute_input": "2025-07-28T22:45:43.481145Z",
     "iopub.status.busy": "2025-07-28T22:45:43.480866Z",
     "iopub.status.idle": "2025-07-28T22:46:21.097859Z",
     "shell.execute_reply": "2025-07-28T22:46:21.096890Z",
     "shell.execute_reply.started": "2025-07-28T22:45:43.481121Z"
    },
    "trusted": true
   },
   "outputs": [
    {
     "name": "stdout",
     "output_type": "stream",
     "text": [
      "Train acc (KNN): 0.9837619047619047\n"
     ]
    }
   ],
   "source": [
    "knn_pipe = Pipeline([\n",
    "    ('minmax', MinMaxScaler()),\n",
    "    ('knn',    KNeighborsClassifier(n_neighbors=3, metric='euclidean'))\n",
    "])\n",
    "knn_pipe.fit(X_flat, y)\n",
    "\n",
    "pred = knn_pipe.predict(X_flat)\n",
    "print('Train acc (KNN):', accuracy_score(y, pred))"
   ]
  },
  {
   "cell_type": "markdown",
   "metadata": {},
   "source": [
    "## PCA + Linear SVM"
   ]
  },
  {
   "cell_type": "code",
   "execution_count": null,
   "metadata": {
    "execution": {
     "iopub.execute_input": "2025-07-28T22:46:21.099127Z",
     "iopub.status.busy": "2025-07-28T22:46:21.098807Z",
     "iopub.status.idle": "2025-07-28T22:46:28.957588Z",
     "shell.execute_reply": "2025-07-28T22:46:28.956587Z",
     "shell.execute_reply.started": "2025-07-28T22:46:21.099098Z"
    },
    "trusted": true
   },
   "outputs": [
    {
     "name": "stdout",
     "output_type": "stream",
     "text": [
      "Train acc (PCA+SVM): 0.8934047619047619\n"
     ]
    }
   ],
   "source": [
    "pca_svm_pipe = Pipeline([\n",
    "    ('scale', StandardScaler()),\n",
    "    ('pca',   PCA(n_components=50, random_state=SEED)),\n",
    "    ('svm',   LinearSVC(C=1.0, dual=False, random_state=SEED))\n",
    "])\n",
    "pca_svm_pipe.fit(X_flat, y)\n",
    "print('Train acc (PCA+SVM):', accuracy_score(y, pca_svm_pipe.predict(X_flat)))"
   ]
  },
  {
   "cell_type": "markdown",
   "metadata": {},
   "source": [
    "# Convolutional Neural Network (CNN) Model"
   ]
  },
  {
   "cell_type": "code",
   "execution_count": null,
   "metadata": {
    "execution": {
     "iopub.execute_input": "2025-07-28T22:56:00.043126Z",
     "iopub.status.busy": "2025-07-28T22:56:00.042824Z",
     "iopub.status.idle": "2025-07-28T22:56:00.049893Z",
     "shell.execute_reply": "2025-07-28T22:56:00.048994Z",
     "shell.execute_reply.started": "2025-07-28T22:56:00.043105Z"
    },
    "trusted": true
   },
   "outputs": [],
   "source": [
    "def build_model(hp=None):\n",
    "    # Conv block 1\n",
    "    filters1 = hp.Choice('filters1', [16, 32, 64, 128])\n",
    "    ks1      = hp.Choice('kernel1',  [1, 3, 5])\n",
    "    # Conv block 2\n",
    "    filters2 = hp.Choice('filters2', [32, 64, 128])\n",
    "    ks2      = hp.Choice('kernel2',  [1, 3, 5])\n",
    "    # Dense layer\n",
    "    dense_units = hp.Int('dense', 64, 512, step=64)\n",
    "    # Regularization\n",
    "    dr_rate  = hp.Float('dropout', 0.2, 0.5, step=0.1)\n",
    "    lr       = hp.Float('lr', 1e-4, 1e-2, sampling='log')\n",
    "\n",
    "    model = tf.keras.Sequential([\n",
    "        layers.Input((28, 28, 1)),\n",
    "        layers.Conv2D(filters1, ks1, activation='relu', padding='same'),\n",
    "        layers.Conv2D(filters2, ks2, activation='relu', padding='same'),\n",
    "        layers.MaxPooling2D(),\n",
    "        layers.Dropout(dr_rate),\n",
    "        layers.Flatten(),\n",
    "        layers.Dense(dense_units, activation='relu'),\n",
    "        layers.Dropout(dr_rate),\n",
    "        layers.Dense(10, activation='softmax')\n",
    "    ])\n",
    "\n",
    "    model.compile(\n",
    "        optimizer = tf.keras.optimizers.Adam(learning_rate=lr),\n",
    "        loss      = 'sparse_categorical_crossentropy',\n",
    "        metrics   = ['accuracy']\n",
    "    )\n",
    "    return model"
   ]
  },
  {
   "cell_type": "markdown",
   "metadata": {},
   "source": [
    "## Data augmentation"
   ]
  },
  {
   "cell_type": "code",
   "execution_count": null,
   "metadata": {
    "execution": {
     "iopub.execute_input": "2025-07-28T22:56:00.769207Z",
     "iopub.status.busy": "2025-07-28T22:56:00.768885Z",
     "iopub.status.idle": "2025-07-28T22:56:00.821694Z",
     "shell.execute_reply": "2025-07-28T22:56:00.820965Z",
     "shell.execute_reply.started": "2025-07-28T22:56:00.769182Z"
    },
    "trusted": true
   },
   "outputs": [],
   "source": [
    "datagen = tf.keras.preprocessing.image.ImageDataGenerator(\n",
    "    rotation_range=10, width_shift_range=0.1, height_shift_range=0.1)\n",
    "datagen.fit(X)"
   ]
  },
  {
   "cell_type": "markdown",
   "metadata": {},
   "source": [
    "##  Train/val split"
   ]
  },
  {
   "cell_type": "code",
   "execution_count": null,
   "metadata": {
    "execution": {
     "iopub.execute_input": "2025-07-28T22:56:00.980980Z",
     "iopub.status.busy": "2025-07-28T22:56:00.980683Z",
     "iopub.status.idle": "2025-07-28T22:56:01.307018Z",
     "shell.execute_reply": "2025-07-28T22:56:01.306308Z",
     "shell.execute_reply.started": "2025-07-28T22:56:00.980959Z"
    },
    "trusted": true
   },
   "outputs": [],
   "source": [
    "X_tr, X_val, y_tr, y_val = train_test_split(X, y, test_size=0.1,\n",
    "                                            stratify=y, random_state=SEED)"
   ]
  },
  {
   "cell_type": "markdown",
   "metadata": {},
   "source": [
    "# Hyper-parameter Tuning (≤40 trials)"
   ]
  },
  {
   "cell_type": "code",
   "execution_count": null,
   "metadata": {
    "execution": {
     "iopub.execute_input": "2025-07-28T23:20:57.270275Z",
     "iopub.status.busy": "2025-07-28T23:20:57.269415Z",
     "iopub.status.idle": "2025-07-28T23:29:16.621974Z",
     "shell.execute_reply": "2025-07-28T23:29:16.620949Z",
     "shell.execute_reply.started": "2025-07-28T23:20:57.270248Z"
    },
    "trusted": true
   },
   "outputs": [
    {
     "name": "stdout",
     "output_type": "stream",
     "text": [
      "Trial 3 Complete [00h 02m 45s]\n",
      "val_accuracy: 0.9645237922668457\n",
      "\n",
      "Best val_accuracy So Far: 0.9895238280296326\n",
      "Total elapsed time: 00h 08m 18s\n"
     ]
    },
    {
     "name": "stderr",
     "output_type": "stream",
     "text": [
      "/usr/local/lib/python3.11/dist-packages/keras/src/saving/saving_lib.py:757: UserWarning: Skipping variable loading for optimizer 'adam', because it has 2 variables whereas the saved optimizer has 18 variables. \n",
      "  saveable.load_own_variables(weights_store.get(inner_path))\n"
     ]
    }
   ],
   "source": [
    "def run_bayes_tuner():\n",
    "    tuner = BayesianOptimization(\n",
    "        build_model,\n",
    "        objective='val_accuracy',\n",
    "        max_trials=40,\n",
    "        num_initial_points=8,\n",
    "        directory='mnist_tuning',\n",
    "        project_name='cnn_bo',\n",
    "        overwrite=True,\n",
    "        seed=SEED\n",
    "    )\n",
    "\n",
    "    tuner.search(\n",
    "        datagen.flow(X_tr, y_tr, batch_size=128),\n",
    "        validation_data=(X_val, y_val),\n",
    "        epochs=15,\n",
    "        callbacks=[tf.keras.callbacks.EarlyStopping(patience=3)]\n",
    "    )\n",
    "\n",
    "    # Early-exit logic\n",
    "    hist = [t.metrics.get_last_value('val_accuracy')\n",
    "            for t in tuner.oracle.trials.values()]\n",
    "    if len(hist) > 10 and max(hist[-10:]) - max(hist[:-10]) < 1e-3:\n",
    "        print(\"No meaningful gain in 10 trials – stopping search early.\")\n",
    "\n",
    "    # Always return *both* artifacts\n",
    "    best_model = tuner.get_best_models(1)[0]\n",
    "    best_hp    = tuner.get_best_hyperparameters(1)[0]\n",
    "    return best_model, best_hp\n",
    "\n",
    "best_model, best_hp = run_bayes_tuner()"
   ]
  },
  {
   "cell_type": "markdown",
   "metadata": {},
   "source": [
    "# Cross-Validation"
   ]
  },
  {
   "cell_type": "code",
   "execution_count": null,
   "metadata": {
    "execution": {
     "iopub.execute_input": "2025-07-28T23:29:16.623589Z",
     "iopub.status.busy": "2025-07-28T23:29:16.623370Z",
     "iopub.status.idle": "2025-07-28T23:41:20.210927Z",
     "shell.execute_reply": "2025-07-28T23:41:20.210082Z",
     "shell.execute_reply.started": "2025-07-28T23:29:16.623572Z"
    },
    "trusted": true
   },
   "outputs": [
    {
     "name": "stderr",
     "output_type": "stream",
     "text": [
      "/usr/local/lib/python3.11/dist-packages/keras/src/trainers/data_adapters/py_dataset_adapter.py:121: UserWarning: Your `PyDataset` class should call `super().__init__(**kwargs)` in its constructor. `**kwargs` can include `workers`, `use_multiprocessing`, `max_queue_size`. Do not pass these arguments to `fit()`, as they will be ignored.\n",
      "  self._warn_if_super_not_called()\n"
     ]
    },
    {
     "name": "stdout",
     "output_type": "stream",
     "text": [
      "Fold 1: 0.9892\n",
      "Fold 2: 0.9888\n",
      "Fold 3: 0.9879\n",
      "Fold 4: 0.9899\n",
      "Fold 5: 0.9876\n",
      "CV mean ± std: 0.9887 ± 0.0008\n"
     ]
    }
   ],
   "source": [
    "skf = StratifiedKFold(n_splits=5, shuffle=True, random_state=SEED)\n",
    "cv_scores = []\n",
    "\n",
    "for fold, (tr, va) in enumerate(skf.split(X, y), 1):\n",
    "    model = build_model(best_hp)\n",
    "    model.fit(datagen.flow(X[tr], y[tr], batch_size=128),\n",
    "              epochs=15, verbose=0,\n",
    "              validation_data=(X[va], y[va]),\n",
    "              callbacks=[tf.keras.callbacks.EarlyStopping(patience=3)])\n",
    "    acc = model.evaluate(X[va], y[va], verbose=0)[1]\n",
    "    cv_scores.append(acc)\n",
    "    print(f'Fold {fold}: {acc:.4f}')\n",
    "\n",
    "print(f'CV mean ± std: {np.mean(cv_scores):.4f} ± {np.std(cv_scores):.4f}')"
   ]
  },
  {
   "cell_type": "markdown",
   "metadata": {},
   "source": [
    "# Confusion Matrix"
   ]
  },
  {
   "cell_type": "code",
   "execution_count": 26,
   "metadata": {
    "execution": {
     "iopub.execute_input": "2025-07-28T23:41:45.261174Z",
     "iopub.status.busy": "2025-07-28T23:41:45.260907Z",
     "iopub.status.idle": "2025-07-28T23:41:46.523482Z",
     "shell.execute_reply": "2025-07-28T23:41:46.522413Z",
     "shell.execute_reply.started": "2025-07-28T23:41:45.261156Z"
    },
    "trusted": true
   },
   "outputs": [
    {
     "name": "stdout",
     "output_type": "stream",
     "text": [
      "\u001b[1m132/132\u001b[0m \u001b[32m━━━━━━━━━━━━━━━━━━━━\u001b[0m\u001b[37m\u001b[0m \u001b[1m1s\u001b[0m 4ms/step\n"
     ]
    },
    {
     "data": {
      "image/png": "[encoded data removed]",
      "text/plain": [
       "<Figure size 640x480 with 2 Axes>"
      ]
     },
     "metadata": {},
     "output_type": "display_data"
    }
   ],
   "source": [
    "val_pred = np.argmax(best_model.predict(X_val), axis=1)\n",
    "cm = confusion_matrix(y_val, val_pred)\n",
    "ConfusionMatrixDisplay(cm).plot(cmap='Blues'); plt.show()"
   ]
  },
  {
   "cell_type": "markdown",
   "metadata": {},
   "source": [
    "# Train on Full Data & Generate Submission"
   ]
  },
  {
   "cell_type": "code",
   "execution_count": 68,
   "metadata": {
    "execution": {
     "iopub.execute_input": "2025-07-29T00:42:33.969418Z",
     "iopub.status.busy": "2025-07-29T00:42:33.969143Z",
     "iopub.status.idle": "2025-07-29T00:44:46.070342Z",
     "shell.execute_reply": "2025-07-29T00:44:46.069443Z",
     "shell.execute_reply.started": "2025-07-29T00:42:33.969397Z"
    },
    "trusted": true
   },
   "outputs": [
    {
     "name": "stdout",
     "output_type": "stream",
     "text": [
      "Epoch 1/12\n"
     ]
    },
    {
     "name": "stderr",
     "output_type": "stream",
     "text": [
      "/usr/local/lib/python3.11/dist-packages/keras/src/trainers/data_adapters/py_dataset_adapter.py:121: UserWarning: Your `PyDataset` class should call `super().__init__(**kwargs)` in its constructor. `**kwargs` can include `workers`, `use_multiprocessing`, `max_queue_size`. Do not pass these arguments to `fit()`, as they will be ignored.\n",
      "  self._warn_if_super_not_called()\n"
     ]
    },
    {
     "name": "stdout",
     "output_type": "stream",
     "text": [
      "\u001b[1m329/329\u001b[0m \u001b[32m━━━━━━━━━━━━━━━━━━━━\u001b[0m\u001b[37m\u001b[0m \u001b[1m16s\u001b[0m 37ms/step - accuracy: 0.9204 - loss: 0.9468\n",
      "Epoch 2/12\n",
      "\u001b[1m  5/329\u001b[0m \u001b[37m━━━━━━━━━━━━━━━━━━━━\u001b[0m \u001b[1m10s\u001b[0m 32ms/step - accuracy: 0.8596 - loss: 1.5030"
     ]
    },
    {
     "name": "stderr",
     "output_type": "stream",
     "text": [
      "/usr/local/lib/python3.11/dist-packages/keras/src/callbacks/early_stopping.py:153: UserWarning: Early stopping conditioned on metric `val_loss` which is not available. Available metrics are: accuracy,loss\n",
      "  current = self.get_monitor_value(logs)\n"
     ]
    },
    {
     "name": "stdout",
     "output_type": "stream",
     "text": [
      "\u001b[1m329/329\u001b[0m \u001b[32m━━━━━━━━━━━━━━━━━━━━\u001b[0m\u001b[37m\u001b[0m \u001b[1m10s\u001b[0m 31ms/step - accuracy: 0.8503 - loss: 1.6041\n",
      "Epoch 3/12\n",
      "\u001b[1m329/329\u001b[0m \u001b[32m━━━━━━━━━━━━━━━━━━━━\u001b[0m\u001b[37m\u001b[0m \u001b[1m10s\u001b[0m 31ms/step - accuracy: 0.7853 - loss: 2.0215\n",
      "Epoch 4/12\n",
      "\u001b[1m329/329\u001b[0m \u001b[32m━━━━━━━━━━━━━━━━━━━━\u001b[0m\u001b[37m\u001b[0m \u001b[1m10s\u001b[0m 31ms/step - accuracy: 0.7652 - loss: 2.1278\n",
      "Epoch 5/12\n",
      "\u001b[1m329/329\u001b[0m \u001b[32m━━━━━━━━━━━━━━━━━━━━\u001b[0m\u001b[37m\u001b[0m \u001b[1m11s\u001b[0m 32ms/step - accuracy: 0.7710 - loss: 2.1134\n",
      "Epoch 6/12\n",
      "\u001b[1m329/329\u001b[0m \u001b[32m━━━━━━━━━━━━━━━━━━━━\u001b[0m\u001b[37m\u001b[0m \u001b[1m10s\u001b[0m 31ms/step - accuracy: 0.7774 - loss: 2.1288\n",
      "Epoch 7/12\n",
      "\u001b[1m329/329\u001b[0m \u001b[32m━━━━━━━━━━━━━━━━━━━━\u001b[0m\u001b[37m\u001b[0m \u001b[1m11s\u001b[0m 32ms/step - accuracy: 0.7558 - loss: 2.1663\n",
      "Epoch 8/12\n",
      "\u001b[1m329/329\u001b[0m \u001b[32m━━━━━━━━━━━━━━━━━━━━\u001b[0m\u001b[37m\u001b[0m \u001b[1m11s\u001b[0m 32ms/step - accuracy: 0.7502 - loss: 2.1772\n",
      "Epoch 9/12\n",
      "\u001b[1m329/329\u001b[0m \u001b[32m━━━━━━━━━━━━━━━━━━━━\u001b[0m\u001b[37m\u001b[0m \u001b[1m10s\u001b[0m 31ms/step - accuracy: 0.7534 - loss: 2.2009\n",
      "Epoch 10/12\n",
      "\u001b[1m329/329\u001b[0m \u001b[32m━━━━━━━━━━━━━━━━━━━━\u001b[0m\u001b[37m\u001b[0m \u001b[1m10s\u001b[0m 31ms/step - accuracy: 0.7452 - loss: 2.2172\n",
      "Epoch 11/12\n",
      "\u001b[1m329/329\u001b[0m \u001b[32m━━━━━━━━━━━━━━━━━━━━\u001b[0m\u001b[37m\u001b[0m \u001b[1m10s\u001b[0m 32ms/step - accuracy: 0.7269 - loss: 2.2443\n",
      "Epoch 12/12\n",
      "\u001b[1m329/329\u001b[0m \u001b[32m━━━━━━━━━━━━━━━━━━━━\u001b[0m\u001b[37m\u001b[0m \u001b[1m10s\u001b[0m 31ms/step - accuracy: 0.6863 - loss: 2.2284\n",
      "\u001b[1m875/875\u001b[0m \u001b[32m━━━━━━━━━━━━━━━━━━━━\u001b[0m\u001b[37m\u001b[0m \u001b[1m1s\u001b[0m 1ms/step\n"
     ]
    },
    {
     "data": {
      "text/html": [
       "<div>\n",
       "<style scoped>\n",
       "    .dataframe tbody tr th:only-of-type {\n",
       "        vertical-align: middle;\n",
       "    }\n",
       "\n",
       "    .dataframe tbody tr th {\n",
       "        vertical-align: top;\n",
       "    }\n",
       "\n",
       "    .dataframe thead th {\n",
       "        text-align: right;\n",
       "    }\n",
       "</style>\n",
       "<table border=\"1\" class=\"dataframe\">\n",
       "  <thead>\n",
       "    <tr style=\"text-align: right;\">\n",
       "      <th></th>\n",
       "      <th>ImageId</th>\n",
       "      <th>Label</th>\n",
       "    </tr>\n",
       "  </thead>\n",
       "  <tbody>\n",
       "    <tr>\n",
       "      <th>0</th>\n",
       "      <td>1</td>\n",
       "      <td>2</td>\n",
       "    </tr>\n",
       "    <tr>\n",
       "      <th>1</th>\n",
       "      <td>2</td>\n",
       "      <td>0</td>\n",
       "    </tr>\n",
       "    <tr>\n",
       "      <th>2</th>\n",
       "      <td>3</td>\n",
       "      <td>9</td>\n",
       "    </tr>\n",
       "    <tr>\n",
       "      <th>3</th>\n",
       "      <td>4</td>\n",
       "      <td>0</td>\n",
       "    </tr>\n",
       "    <tr>\n",
       "      <th>4</th>\n",
       "      <td>5</td>\n",
       "      <td>2</td>\n",
       "    </tr>\n",
       "  </tbody>\n",
       "</table>\n",
       "</div>"
      ],
      "text/plain": [
       "   ImageId  Label\n",
       "0        1      2\n",
       "1        2      0\n",
       "2        3      9\n",
       "3        4      0\n",
       "4        5      2"
      ]
     },
     "execution_count": 68,
     "metadata": {},
     "output_type": "execute_result"
    }
   ],
   "source": [
    "best_model.fit(datagen.flow(X, y, batch_size=128),\n",
    "               epochs=12, callbacks=[callbacks.EarlyStopping(patience=3)])\n",
    "test_pred = np.argmax(best_model.predict(X_test), axis=1)\n",
    "\n",
    "sub = pd.DataFrame({'ImageId': np.arange(1, len(X_test)+1),\n",
    "                    'Label': test_pred})\n",
    "sub.to_csv('submission.csv', index=False)"
   ]
  }
 ],
 "metadata": {
  "kaggle": {
   "accelerator": "nvidiaTeslaT4",
   "dataSources": [
    {
     "databundleVersionId": 861823,
     "sourceId": 3004,
     "sourceType": "competition"
    }
   ],
   "dockerImageVersionId": 31040,
   "isGpuEnabled": true,
   "isInternetEnabled": true,
   "language": "python",
   "sourceType": "notebook"
  },
  "kernelspec": {
   "display_name": "Python 3",
   "language": "python",
   "name": "python3"
  },
  "language_info": {
   "codemirror_mode": {
    "name": "ipython",
    "version": 3
   },
   "file_extension": ".py",
   "mimetype": "text/x-python",
   "name": "python",
   "nbconvert_exporter": "python",
   "pygments_lexer": "ipython3",
   "version": "3.11.11"
  }
 },
 "nbformat": 4,
 "nbformat_minor": 4
}
