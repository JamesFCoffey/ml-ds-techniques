{
 "cells": [
  {
   "cell_type": "markdown",
   "id": "796b2b9b",
   "metadata": {
    "papermill": {
     "duration": 0.006495,
     "end_time": "2025-08-03T22:18:56.222697",
     "exception": false,
     "start_time": "2025-08-03T22:18:56.216202",
     "status": "completed"
    },
    "tags": []
   },
   "source": [
    "# Project Title: Digit Recognizer\n",
    "#### Author: James Coffey\n",
    "#### Date: 2025-07-28\n",
    "#### Challenge URL: [Digit Recognizer](https://www.kaggle.com/competitions/digit-recognizer)"
   ]
  },
  {
   "cell_type": "markdown",
   "id": "c4ab604e",
   "metadata": {
    "papermill": {
     "duration": 0.004959,
     "end_time": "2025-08-03T22:18:56.233526",
     "exception": false,
     "start_time": "2025-08-03T22:18:56.228567",
     "status": "completed"
    },
    "tags": []
   },
   "source": [
    "# Implementation decisions at a glance\n",
    "\n",
    "* **Dual‑track baselines.**  I always start with a classical model (K‑NN and PCA + SVM here) before going full CNN.  It gives me a quick yard‑stick. That is if deep‑learning can’t beat 98 % on MNIST something is broken.\n",
    "* **Lean EDA by design.**  MNIST is squeaky‑clean, so I stuck to a handful of checks: NaNs, pixel range, duplicates and a short visual pass.  That keeps the notebook light but still defensible.\n",
    "* **Lightweight CNN + Bayesian search.**  Two convolutional blocks with at most 128 filters each are enough for ≥99 % accuracy, yet train in <2 min on Kaggle’s T4. Bayesian Opt reaches that regime in ~25 trials—RandomSearch needed almost triple.\n",
    "* **Early‑stop rule baked into the tuner.**  If the best validation‑accuracy hasn’t improved by ≥0.001 over 10 trials I quit to save GPU time.\n",
    "* **Augmentation dialled‑in, not dialled‑up.**  ±10° rotation and ±10 % shifts were the sweet‑spot; heavier transforms blurred stroke information and hurt validation.\n"
   ]
  },
  {
   "cell_type": "code",
   "execution_count": 1,
   "id": "8285fac7",
   "metadata": {
    "execution": {
     "iopub.execute_input": "2025-08-03T22:18:56.245578Z",
     "iopub.status.busy": "2025-08-03T22:18:56.245199Z",
     "iopub.status.idle": "2025-08-03T22:19:13.170813Z",
     "shell.execute_reply": "2025-08-03T22:19:13.170180Z"
    },
    "papermill": {
     "duration": 16.93322,
     "end_time": "2025-08-03T22:19:13.172218",
     "exception": false,
     "start_time": "2025-08-03T22:18:56.238998",
     "status": "completed"
    },
    "tags": []
   },
   "outputs": [
    {
     "name": "stderr",
     "output_type": "stream",
     "text": [
      "2025-08-03 22:19:00.814186: E external/local_xla/xla/stream_executor/cuda/cuda_fft.cc:477] Unable to register cuFFT factory: Attempting to register factory for plugin cuFFT when one has already been registered\n",
      "WARNING: All log messages before absl::InitializeLog() is called are written to STDERR\n",
      "E0000 00:00:1754259541.023522      19 cuda_dnn.cc:8310] Unable to register cuDNN factory: Attempting to register factory for plugin cuDNN when one has already been registered\n",
      "E0000 00:00:1754259541.081110      19 cuda_blas.cc:1418] Unable to register cuBLAS factory: Attempting to register factory for plugin cuBLAS when one has already been registered\n"
     ]
    }
   ],
   "source": [
    "from pathlib import Path\n",
    "\n",
    "import matplotlib.pyplot as plt\n",
    "import numpy as np\n",
    "import pandas as pd\n",
    "import seaborn as sns\n",
    "import tensorflow as tf\n",
    "from keras_tuner import BayesianOptimization\n",
    "\n",
    "# Classic ML\n",
    "from sklearn.decomposition import PCA\n",
    "from sklearn.metrics import ConfusionMatrixDisplay, accuracy_score, confusion_matrix\n",
    "from sklearn.model_selection import StratifiedKFold, train_test_split\n",
    "from sklearn.neighbors import KNeighborsClassifier\n",
    "from sklearn.pipeline import Pipeline\n",
    "from sklearn.preprocessing import MinMaxScaler, StandardScaler\n",
    "from sklearn.svm import LinearSVC\n",
    "\n",
    "# Deep learning\n",
    "from tensorflow.keras import callbacks, layers\n",
    "\n",
    "# Utility\n",
    "SEED = 42\n",
    "np.random.seed(SEED)\n",
    "tf.random.set_seed(SEED)\n",
    "DATA = Path(\"/kaggle/input/digit-recognizer\")"
   ]
  },
  {
   "cell_type": "markdown",
   "id": "f2dc7056",
   "metadata": {
    "papermill": {
     "duration": 0.005756,
     "end_time": "2025-08-03T22:19:13.183934",
     "exception": false,
     "start_time": "2025-08-03T22:19:13.178178",
     "status": "completed"
    },
    "tags": []
   },
   "source": [
    "# Dataset Access & Overview"
   ]
  },
  {
   "cell_type": "code",
   "execution_count": 2,
   "id": "75a9c0d1",
   "metadata": {
    "execution": {
     "iopub.execute_input": "2025-08-03T22:19:13.196344Z",
     "iopub.status.busy": "2025-08-03T22:19:13.195477Z",
     "iopub.status.idle": "2025-08-03T22:19:17.584701Z",
     "shell.execute_reply": "2025-08-03T22:19:17.584049Z"
    },
    "papermill": {
     "duration": 4.396827,
     "end_time": "2025-08-03T22:19:17.586049",
     "exception": false,
     "start_time": "2025-08-03T22:19:13.189222",
     "status": "completed"
    },
    "tags": []
   },
   "outputs": [
    {
     "name": "stdout",
     "output_type": "stream",
     "text": [
      "(42000, 785) (28000, 784)\n"
     ]
    },
    {
     "data": {
      "text/html": [
       "<div>\n",
       "<style scoped>\n",
       "    .dataframe tbody tr th:only-of-type {\n",
       "        vertical-align: middle;\n",
       "    }\n",
       "\n",
       "    .dataframe tbody tr th {\n",
       "        vertical-align: top;\n",
       "    }\n",
       "\n",
       "    .dataframe thead th {\n",
       "        text-align: right;\n",
       "    }\n",
       "</style>\n",
       "<table border=\"1\" class=\"dataframe\">\n",
       "  <thead>\n",
       "    <tr style=\"text-align: right;\">\n",
       "      <th></th>\n",
       "      <th>label</th>\n",
       "      <th>pixel0</th>\n",
       "      <th>pixel1</th>\n",
       "      <th>pixel2</th>\n",
       "      <th>pixel3</th>\n",
       "      <th>pixel4</th>\n",
       "      <th>pixel5</th>\n",
       "      <th>pixel6</th>\n",
       "      <th>pixel7</th>\n",
       "      <th>pixel8</th>\n",
       "      <th>...</th>\n",
       "      <th>pixel774</th>\n",
       "      <th>pixel775</th>\n",
       "      <th>pixel776</th>\n",
       "      <th>pixel777</th>\n",
       "      <th>pixel778</th>\n",
       "      <th>pixel779</th>\n",
       "      <th>pixel780</th>\n",
       "      <th>pixel781</th>\n",
       "      <th>pixel782</th>\n",
       "      <th>pixel783</th>\n",
       "    </tr>\n",
       "  </thead>\n",
       "  <tbody>\n",
       "    <tr>\n",
       "      <th>0</th>\n",
       "      <td>1</td>\n",
       "      <td>0</td>\n",
       "      <td>0</td>\n",
       "      <td>0</td>\n",
       "      <td>0</td>\n",
       "      <td>0</td>\n",
       "      <td>0</td>\n",
       "      <td>0</td>\n",
       "      <td>0</td>\n",
       "      <td>0</td>\n",
       "      <td>...</td>\n",
       "      <td>0</td>\n",
       "      <td>0</td>\n",
       "      <td>0</td>\n",
       "      <td>0</td>\n",
       "      <td>0</td>\n",
       "      <td>0</td>\n",
       "      <td>0</td>\n",
       "      <td>0</td>\n",
       "      <td>0</td>\n",
       "      <td>0</td>\n",
       "    </tr>\n",
       "    <tr>\n",
       "      <th>1</th>\n",
       "      <td>0</td>\n",
       "      <td>0</td>\n",
       "      <td>0</td>\n",
       "      <td>0</td>\n",
       "      <td>0</td>\n",
       "      <td>0</td>\n",
       "      <td>0</td>\n",
       "      <td>0</td>\n",
       "      <td>0</td>\n",
       "      <td>0</td>\n",
       "      <td>...</td>\n",
       "      <td>0</td>\n",
       "      <td>0</td>\n",
       "      <td>0</td>\n",
       "      <td>0</td>\n",
       "      <td>0</td>\n",
       "      <td>0</td>\n",
       "      <td>0</td>\n",
       "      <td>0</td>\n",
       "      <td>0</td>\n",
       "      <td>0</td>\n",
       "    </tr>\n",
       "    <tr>\n",
       "      <th>2</th>\n",
       "      <td>1</td>\n",
       "      <td>0</td>\n",
       "      <td>0</td>\n",
       "      <td>0</td>\n",
       "      <td>0</td>\n",
       "      <td>0</td>\n",
       "      <td>0</td>\n",
       "      <td>0</td>\n",
       "      <td>0</td>\n",
       "      <td>0</td>\n",
       "      <td>...</td>\n",
       "      <td>0</td>\n",
       "      <td>0</td>\n",
       "      <td>0</td>\n",
       "      <td>0</td>\n",
       "      <td>0</td>\n",
       "      <td>0</td>\n",
       "      <td>0</td>\n",
       "      <td>0</td>\n",
       "      <td>0</td>\n",
       "      <td>0</td>\n",
       "    </tr>\n",
       "    <tr>\n",
       "      <th>3</th>\n",
       "      <td>4</td>\n",
       "      <td>0</td>\n",
       "      <td>0</td>\n",
       "      <td>0</td>\n",
       "      <td>0</td>\n",
       "      <td>0</td>\n",
       "      <td>0</td>\n",
       "      <td>0</td>\n",
       "      <td>0</td>\n",
       "      <td>0</td>\n",
       "      <td>...</td>\n",
       "      <td>0</td>\n",
       "      <td>0</td>\n",
       "      <td>0</td>\n",
       "      <td>0</td>\n",
       "      <td>0</td>\n",
       "      <td>0</td>\n",
       "      <td>0</td>\n",
       "      <td>0</td>\n",
       "      <td>0</td>\n",
       "      <td>0</td>\n",
       "    </tr>\n",
       "    <tr>\n",
       "      <th>4</th>\n",
       "      <td>0</td>\n",
       "      <td>0</td>\n",
       "      <td>0</td>\n",
       "      <td>0</td>\n",
       "      <td>0</td>\n",
       "      <td>0</td>\n",
       "      <td>0</td>\n",
       "      <td>0</td>\n",
       "      <td>0</td>\n",
       "      <td>0</td>\n",
       "      <td>...</td>\n",
       "      <td>0</td>\n",
       "      <td>0</td>\n",
       "      <td>0</td>\n",
       "      <td>0</td>\n",
       "      <td>0</td>\n",
       "      <td>0</td>\n",
       "      <td>0</td>\n",
       "      <td>0</td>\n",
       "      <td>0</td>\n",
       "      <td>0</td>\n",
       "    </tr>\n",
       "  </tbody>\n",
       "</table>\n",
       "<p>5 rows × 785 columns</p>\n",
       "</div>"
      ],
      "text/plain": [
       "   label  pixel0  pixel1  pixel2  pixel3  pixel4  pixel5  pixel6  pixel7  \\\n",
       "0      1       0       0       0       0       0       0       0       0   \n",
       "1      0       0       0       0       0       0       0       0       0   \n",
       "2      1       0       0       0       0       0       0       0       0   \n",
       "3      4       0       0       0       0       0       0       0       0   \n",
       "4      0       0       0       0       0       0       0       0       0   \n",
       "\n",
       "   pixel8  ...  pixel774  pixel775  pixel776  pixel777  pixel778  pixel779  \\\n",
       "0       0  ...         0         0         0         0         0         0   \n",
       "1       0  ...         0         0         0         0         0         0   \n",
       "2       0  ...         0         0         0         0         0         0   \n",
       "3       0  ...         0         0         0         0         0         0   \n",
       "4       0  ...         0         0         0         0         0         0   \n",
       "\n",
       "   pixel780  pixel781  pixel782  pixel783  \n",
       "0         0         0         0         0  \n",
       "1         0         0         0         0  \n",
       "2         0         0         0         0  \n",
       "3         0         0         0         0  \n",
       "4         0         0         0         0  \n",
       "\n",
       "[5 rows x 785 columns]"
      ]
     },
     "execution_count": 2,
     "metadata": {},
     "output_type": "execute_result"
    }
   ],
   "source": [
    "train_df = pd.read_csv(DATA / \"train.csv\")\n",
    "test_df = pd.read_csv(DATA / \"test.csv\")\n",
    "\n",
    "print(train_df.shape, test_df.shape)\n",
    "train_df.head()"
   ]
  },
  {
   "cell_type": "markdown",
   "id": "08cc506f",
   "metadata": {
    "papermill": {
     "duration": 0.005836,
     "end_time": "2025-08-03T22:19:17.598833",
     "exception": false,
     "start_time": "2025-08-03T22:19:17.592997",
     "status": "completed"
    },
    "tags": []
   },
   "source": [
    "## Sanity checks\n",
    "\n",
    "### NaNs"
   ]
  },
  {
   "cell_type": "code",
   "execution_count": 3,
   "id": "9d24739a",
   "metadata": {
    "execution": {
     "iopub.execute_input": "2025-08-03T22:19:17.611210Z",
     "iopub.status.busy": "2025-08-03T22:19:17.610966Z",
     "iopub.status.idle": "2025-08-03T22:19:17.626829Z",
     "shell.execute_reply": "2025-08-03T22:19:17.626174Z"
    },
    "papermill": {
     "duration": 0.02391,
     "end_time": "2025-08-03T22:19:17.628396",
     "exception": false,
     "start_time": "2025-08-03T22:19:17.604486",
     "status": "completed"
    },
    "tags": []
   },
   "outputs": [],
   "source": [
    "assert not train_df.isna().any().any(), \"Missing values detected in train\"\n",
    "assert not test_df.isna().any().any(), \"Missing values detected in test\""
   ]
  },
  {
   "cell_type": "markdown",
   "id": "b3c21b9e",
   "metadata": {
    "papermill": {
     "duration": 0.006402,
     "end_time": "2025-08-03T22:19:17.641758",
     "exception": false,
     "start_time": "2025-08-03T22:19:17.635356",
     "status": "completed"
    },
    "tags": []
   },
   "source": [
    "### Pixel range"
   ]
  },
  {
   "cell_type": "code",
   "execution_count": 4,
   "id": "1659281b",
   "metadata": {
    "execution": {
     "iopub.execute_input": "2025-08-03T22:19:17.654418Z",
     "iopub.status.busy": "2025-08-03T22:19:17.654120Z",
     "iopub.status.idle": "2025-08-03T22:19:17.829666Z",
     "shell.execute_reply": "2025-08-03T22:19:17.828385Z"
    },
    "papermill": {
     "duration": 0.1847,
     "end_time": "2025-08-03T22:19:17.832339",
     "exception": false,
     "start_time": "2025-08-03T22:19:17.647639",
     "status": "completed"
    },
    "tags": []
   },
   "outputs": [],
   "source": [
    "pixels = train_df.drop(\"label\", axis=1)\n",
    "assert pixels.min().min() >= 0 and pixels.max().max() <= 255, \"Pixel out of 0-255 range\""
   ]
  },
  {
   "cell_type": "markdown",
   "id": "9dbeaf94",
   "metadata": {
    "papermill": {
     "duration": 0.013536,
     "end_time": "2025-08-03T22:19:17.862639",
     "exception": false,
     "start_time": "2025-08-03T22:19:17.849103",
     "status": "completed"
    },
    "tags": []
   },
   "source": [
    "### Duplicates"
   ]
  },
  {
   "cell_type": "code",
   "execution_count": 5,
   "id": "de9dde8d",
   "metadata": {
    "execution": {
     "iopub.execute_input": "2025-08-03T22:19:17.883793Z",
     "iopub.status.busy": "2025-08-03T22:19:17.883189Z",
     "iopub.status.idle": "2025-08-03T22:19:18.572832Z",
     "shell.execute_reply": "2025-08-03T22:19:18.571854Z"
    },
    "papermill": {
     "duration": 0.700374,
     "end_time": "2025-08-03T22:19:18.574115",
     "exception": false,
     "start_time": "2025-08-03T22:19:17.873741",
     "status": "completed"
    },
    "tags": []
   },
   "outputs": [
    {
     "name": "stdout",
     "output_type": "stream",
     "text": [
      "Exact duplicate images in train: 0\n"
     ]
    }
   ],
   "source": [
    "dup_mask = pixels.duplicated(keep=\"first\")\n",
    "print(f\"Exact duplicate images in train: {dup_mask.sum()}\")"
   ]
  },
  {
   "cell_type": "markdown",
   "id": "054cb6d3",
   "metadata": {
    "papermill": {
     "duration": 0.006336,
     "end_time": "2025-08-03T22:19:18.586874",
     "exception": false,
     "start_time": "2025-08-03T22:19:18.580538",
     "status": "completed"
    },
    "tags": []
   },
   "source": [
    "## Label distribution"
   ]
  },
  {
   "cell_type": "code",
   "execution_count": 6,
   "id": "c3314d67",
   "metadata": {
    "execution": {
     "iopub.execute_input": "2025-08-03T22:19:18.599189Z",
     "iopub.status.busy": "2025-08-03T22:19:18.598958Z",
     "iopub.status.idle": "2025-08-03T22:19:18.825500Z",
     "shell.execute_reply": "2025-08-03T22:19:18.824651Z"
    },
    "papermill": {
     "duration": 0.234211,
     "end_time": "2025-08-03T22:19:18.826804",
     "exception": false,
     "start_time": "2025-08-03T22:19:18.592593",
     "status": "completed"
    },
    "tags": []
   },
   "outputs": [
    {
     "data": {
      "image/png": "[encoded data removed]",
      "text/plain": [
       "<Figure size 640x480 with 1 Axes>"
      ]
     },
     "metadata": {},
     "output_type": "display_data"
    }
   ],
   "source": [
    "sns.countplot(x=train_df.label)\n",
    "plt.title(\"Balanced?\")\n",
    "plt.show()"
   ]
  },
  {
   "cell_type": "markdown",
   "id": "426631f2",
   "metadata": {
    "papermill": {
     "duration": 0.006032,
     "end_time": "2025-08-03T22:19:18.840428",
     "exception": false,
     "start_time": "2025-08-03T22:19:18.834396",
     "status": "completed"
    },
    "tags": []
   },
   "source": [
    "The distribution is nearly flat; class 1 is ~10 % higher, class 5 a touch lower. No re‑weighting needed."
   ]
  },
  {
   "cell_type": "markdown",
   "id": "bd3a60c8",
   "metadata": {
    "papermill": {
     "duration": 0.005786,
     "end_time": "2025-08-03T22:19:18.852390",
     "exception": false,
     "start_time": "2025-08-03T22:19:18.846604",
     "status": "completed"
    },
    "tags": []
   },
   "source": [
    "##  Convert to image tensors"
   ]
  },
  {
   "cell_type": "code",
   "execution_count": 7,
   "id": "fd139761",
   "metadata": {
    "execution": {
     "iopub.execute_input": "2025-08-03T22:19:18.865350Z",
     "iopub.status.busy": "2025-08-03T22:19:18.865058Z",
     "iopub.status.idle": "2025-08-03T22:19:19.105071Z",
     "shell.execute_reply": "2025-08-03T22:19:19.104510Z"
    },
    "papermill": {
     "duration": 0.248241,
     "end_time": "2025-08-03T22:19:19.106652",
     "exception": false,
     "start_time": "2025-08-03T22:19:18.858411",
     "status": "completed"
    },
    "tags": []
   },
   "outputs": [],
   "source": [
    "X = (\n",
    "    train_df.drop(\"label\", axis=1).values.reshape(-1, 28, 28, 1).astype(\"float32\")\n",
    "    / 255.0\n",
    ")\n",
    "y = train_df.label.values\n",
    "X_test = test_df.values.reshape(-1, 28, 28, 1).astype(\"float32\") / 255.0"
   ]
  },
  {
   "cell_type": "markdown",
   "id": "d8e1800a",
   "metadata": {
    "papermill": {
     "duration": 0.005879,
     "end_time": "2025-08-03T22:19:19.119118",
     "exception": false,
     "start_time": "2025-08-03T22:19:19.113239",
     "status": "completed"
    },
    "tags": []
   },
   "source": [
    "## Findings\n",
    "\n",
    "* Train missing: 0\n",
    "* Test missing: 0\n",
    "* A roughly uniform bar chart over digits 0–9\n",
    "* Pixel values range from 0 to 255\n",
    "* Number of exact-duplicate images in train: 0"
   ]
  },
  {
   "cell_type": "markdown",
   "id": "b50bae35",
   "metadata": {
    "papermill": {
     "duration": 0.005866,
     "end_time": "2025-08-03T22:19:19.130651",
     "exception": false,
     "start_time": "2025-08-03T22:19:19.124785",
     "status": "completed"
    },
    "tags": []
   },
   "source": [
    "# Quick Quality Checks"
   ]
  },
  {
   "cell_type": "code",
   "execution_count": 8,
   "id": "a2a3e964",
   "metadata": {
    "execution": {
     "iopub.execute_input": "2025-08-03T22:19:19.143137Z",
     "iopub.status.busy": "2025-08-03T22:19:19.142873Z",
     "iopub.status.idle": "2025-08-03T22:19:19.196551Z",
     "shell.execute_reply": "2025-08-03T22:19:19.195950Z"
    },
    "papermill": {
     "duration": 0.061668,
     "end_time": "2025-08-03T22:19:19.197884",
     "exception": false,
     "start_time": "2025-08-03T22:19:19.136216",
     "status": "completed"
    },
    "tags": []
   },
   "outputs": [],
   "source": [
    "assert X.min() >= 0 and X.max() <= 1, \"Pixel range outside 0-1!\""
   ]
  },
  {
   "cell_type": "markdown",
   "id": "d1586535",
   "metadata": {
    "papermill": {
     "duration": 0.005874,
     "end_time": "2025-08-03T22:19:19.209998",
     "exception": false,
     "start_time": "2025-08-03T22:19:19.204124",
     "status": "completed"
    },
    "tags": []
   },
   "source": [
    "## Visual sanity-check"
   ]
  },
  {
   "cell_type": "code",
   "execution_count": 9,
   "id": "6b5882a3",
   "metadata": {
    "execution": {
     "iopub.execute_input": "2025-08-03T22:19:19.222886Z",
     "iopub.status.busy": "2025-08-03T22:19:19.222689Z",
     "iopub.status.idle": "2025-08-03T22:19:20.316084Z",
     "shell.execute_reply": "2025-08-03T22:19:20.315287Z"
    },
    "papermill": {
     "duration": 1.101794,
     "end_time": "2025-08-03T22:19:20.317619",
     "exception": false,
     "start_time": "2025-08-03T22:19:19.215825",
     "status": "completed"
    },
    "tags": []
   },
   "outputs": [
    {
     "data": {
      "image/png": "[encoded data removed]",
      "text/plain": [
       "<Figure size 400x400 with 25 Axes>"
      ]
     },
     "metadata": {},
     "output_type": "display_data"
    }
   ],
   "source": [
    "fig, axs = plt.subplots(5, 5, figsize=(4, 4))\n",
    "for ax, img, label in zip(axs.flat, X[:25], y[:25]):\n",
    "    ax.imshow(img.squeeze(), cmap=\"gray\")\n",
    "    ax.set_title(label)\n",
    "    ax.axis(\"off\")\n",
    "plt.tight_layout()"
   ]
  },
  {
   "cell_type": "markdown",
   "id": "27106bd8",
   "metadata": {
    "papermill": {
     "duration": 0.006807,
     "end_time": "2025-08-03T22:19:20.331725",
     "exception": false,
     "start_time": "2025-08-03T22:19:20.324918",
     "status": "completed"
    },
    "tags": []
   },
   "source": [
    "First 25 images are crisp; no inverted colors, no obvious junk, stroke thickness looks consistent. This confirms 0‑1 normalization is safe."
   ]
  },
  {
   "cell_type": "markdown",
   "id": "02781b40",
   "metadata": {
    "papermill": {
     "duration": 0.006402,
     "end_time": "2025-08-03T22:19:20.344901",
     "exception": false,
     "start_time": "2025-08-03T22:19:20.338499",
     "status": "completed"
    },
    "tags": []
   },
   "source": [
    "# Mini-EDA"
   ]
  },
  {
   "cell_type": "code",
   "execution_count": 10,
   "id": "bf80ebb9",
   "metadata": {
    "execution": {
     "iopub.execute_input": "2025-08-03T22:19:20.359912Z",
     "iopub.status.busy": "2025-08-03T22:19:20.359367Z",
     "iopub.status.idle": "2025-08-03T22:19:20.975905Z",
     "shell.execute_reply": "2025-08-03T22:19:20.975146Z"
    },
    "papermill": {
     "duration": 0.625272,
     "end_time": "2025-08-03T22:19:20.977122",
     "exception": false,
     "start_time": "2025-08-03T22:19:20.351850",
     "status": "completed"
    },
    "tags": []
   },
   "outputs": [
    {
     "data": {
      "image/png": "[encoded data removed]",
      "text/plain": [
       "<Figure size 600x300 with 4 Axes>"
      ]
     },
     "metadata": {},
     "output_type": "display_data"
    }
   ],
   "source": [
    "mean_img = X.mean(axis=0).squeeze()\n",
    "std_img = X.std(axis=0).squeeze()\n",
    "\n",
    "fig, ax = plt.subplots(1, 2, figsize=(6, 3))\n",
    "sns.heatmap(mean_img, ax=ax[0], cmap=\"magma\")\n",
    "ax[0].set_title(\"Mean intensity\")\n",
    "sns.heatmap(std_img, ax=ax[1], cmap=\"magma\")\n",
    "ax[1].set_title(\"Std deviation\")\n",
    "plt.show()"
   ]
  },
  {
   "cell_type": "markdown",
   "id": "01897636",
   "metadata": {
    "papermill": {
     "duration": 0.00687,
     "end_time": "2025-08-03T22:19:20.991480",
     "exception": false,
     "start_time": "2025-08-03T22:19:20.984610",
     "status": "completed"
    },
    "tags": []
   },
   "source": [
    "Mean intensity recreates a ghostly \"all‑digits\" glyph; the Std heat‑map lights up stroke borders—exactly where digits differ. This validates that my normalization didn’t squash dynamic range; also hints that a 3×3 kernel is plenty."
   ]
  },
  {
   "cell_type": "markdown",
   "id": "1dea4b88",
   "metadata": {
    "papermill": {
     "duration": 0.007096,
     "end_time": "2025-08-03T22:19:21.005549",
     "exception": false,
     "start_time": "2025-08-03T22:19:20.998453",
     "status": "completed"
    },
    "tags": []
   },
   "source": [
    "## Ink centroid per digit"
   ]
  },
  {
   "cell_type": "code",
   "execution_count": 11,
   "id": "0976416c",
   "metadata": {
    "execution": {
     "iopub.execute_input": "2025-08-03T22:19:21.067917Z",
     "iopub.status.busy": "2025-08-03T22:19:21.067215Z",
     "iopub.status.idle": "2025-08-03T22:19:21.280206Z",
     "shell.execute_reply": "2025-08-03T22:19:21.279342Z"
    },
    "papermill": {
     "duration": 0.222093,
     "end_time": "2025-08-03T22:19:21.281534",
     "exception": false,
     "start_time": "2025-08-03T22:19:21.059441",
     "status": "completed"
    },
    "tags": []
   },
   "outputs": [
    {
     "data": {
      "text/html": [
       "<div>\n",
       "<style scoped>\n",
       "    .dataframe tbody tr th:only-of-type {\n",
       "        vertical-align: middle;\n",
       "    }\n",
       "\n",
       "    .dataframe tbody tr th {\n",
       "        vertical-align: top;\n",
       "    }\n",
       "\n",
       "    .dataframe thead th {\n",
       "        text-align: right;\n",
       "    }\n",
       "</style>\n",
       "<table border=\"1\" class=\"dataframe\">\n",
       "  <thead>\n",
       "    <tr style=\"text-align: right;\">\n",
       "      <th></th>\n",
       "      <th>row</th>\n",
       "      <th>col</th>\n",
       "    </tr>\n",
       "  </thead>\n",
       "  <tbody>\n",
       "    <tr>\n",
       "      <th>0</th>\n",
       "      <td>13.903333</td>\n",
       "      <td>14.233333</td>\n",
       "    </tr>\n",
       "    <tr>\n",
       "      <th>1</th>\n",
       "      <td>13.520548</td>\n",
       "      <td>14.095890</td>\n",
       "    </tr>\n",
       "    <tr>\n",
       "      <th>2</th>\n",
       "      <td>13.824916</td>\n",
       "      <td>14.107744</td>\n",
       "    </tr>\n",
       "    <tr>\n",
       "      <th>3</th>\n",
       "      <td>13.967033</td>\n",
       "      <td>13.794872</td>\n",
       "    </tr>\n",
       "    <tr>\n",
       "      <th>4</th>\n",
       "      <td>13.896552</td>\n",
       "      <td>14.057471</td>\n",
       "    </tr>\n",
       "    <tr>\n",
       "      <th>5</th>\n",
       "      <td>13.979021</td>\n",
       "      <td>14.192308</td>\n",
       "    </tr>\n",
       "    <tr>\n",
       "      <th>6</th>\n",
       "      <td>13.095057</td>\n",
       "      <td>14.144487</td>\n",
       "    </tr>\n",
       "    <tr>\n",
       "      <th>7</th>\n",
       "      <td>14.500000</td>\n",
       "      <td>13.642857</td>\n",
       "    </tr>\n",
       "    <tr>\n",
       "      <th>8</th>\n",
       "      <td>14.035714</td>\n",
       "      <td>14.067857</td>\n",
       "    </tr>\n",
       "    <tr>\n",
       "      <th>9</th>\n",
       "      <td>14.743802</td>\n",
       "      <td>13.913223</td>\n",
       "    </tr>\n",
       "  </tbody>\n",
       "</table>\n",
       "</div>"
      ],
      "text/plain": [
       "         row        col\n",
       "0  13.903333  14.233333\n",
       "1  13.520548  14.095890\n",
       "2  13.824916  14.107744\n",
       "3  13.967033  13.794872\n",
       "4  13.896552  14.057471\n",
       "5  13.979021  14.192308\n",
       "6  13.095057  14.144487\n",
       "7  14.500000  13.642857\n",
       "8  14.035714  14.067857\n",
       "9  14.743802  13.913223"
      ]
     },
     "execution_count": 11,
     "metadata": {},
     "output_type": "execute_result"
    }
   ],
   "source": [
    "centroids = {}\n",
    "for d in range(10):\n",
    "    mask = y == d\n",
    "    xs, ys = np.where(X[mask].mean(axis=0).squeeze() > 0.1)\n",
    "    centroids[d] = (xs.mean(), ys.mean())\n",
    "pd.DataFrame(centroids, index=[\"row\", \"col\"]).T"
   ]
  },
  {
   "cell_type": "markdown",
   "id": "7e2c5e6d",
   "metadata": {
    "papermill": {
     "duration": 0.007411,
     "end_time": "2025-08-03T22:19:21.297078",
     "exception": false,
     "start_time": "2025-08-03T22:19:21.289667",
     "status": "completed"
    },
    "tags": []
   },
   "source": [
    "# Baselines"
   ]
  },
  {
   "cell_type": "code",
   "execution_count": 12,
   "id": "1e2b14c5",
   "metadata": {
    "execution": {
     "iopub.execute_input": "2025-08-03T22:19:21.313189Z",
     "iopub.status.busy": "2025-08-03T22:19:21.312732Z",
     "iopub.status.idle": "2025-08-03T22:19:21.316381Z",
     "shell.execute_reply": "2025-08-03T22:19:21.315588Z"
    },
    "papermill": {
     "duration": 0.01301,
     "end_time": "2025-08-03T22:19:21.317612",
     "exception": false,
     "start_time": "2025-08-03T22:19:21.304602",
     "status": "completed"
    },
    "tags": []
   },
   "outputs": [],
   "source": [
    "# Flatten once\n",
    "X_flat = X.reshape(len(X), -1)"
   ]
  },
  {
   "cell_type": "markdown",
   "id": "7642f94e",
   "metadata": {
    "papermill": {
     "duration": 0.007428,
     "end_time": "2025-08-03T22:19:21.332419",
     "exception": false,
     "start_time": "2025-08-03T22:19:21.324991",
     "status": "completed"
    },
    "tags": []
   },
   "source": [
    "## K-Nearest Neighbors"
   ]
  },
  {
   "cell_type": "code",
   "execution_count": 13,
   "id": "3ba8b879",
   "metadata": {
    "execution": {
     "iopub.execute_input": "2025-08-03T22:19:21.348637Z",
     "iopub.status.busy": "2025-08-03T22:19:21.348036Z",
     "iopub.status.idle": "2025-08-03T22:19:56.286871Z",
     "shell.execute_reply": "2025-08-03T22:19:56.285974Z"
    },
    "papermill": {
     "duration": 34.956175,
     "end_time": "2025-08-03T22:19:56.296010",
     "exception": false,
     "start_time": "2025-08-03T22:19:21.339835",
     "status": "completed"
    },
    "tags": []
   },
   "outputs": [
    {
     "name": "stdout",
     "output_type": "stream",
     "text": [
      "Train acc (KNN): 0.9837619047619047\n"
     ]
    }
   ],
   "source": [
    "knn_pipe = Pipeline(\n",
    "    [\n",
    "        (\"minmax\", MinMaxScaler()),\n",
    "        (\"knn\", KNeighborsClassifier(n_neighbors=3, metric=\"euclidean\")),\n",
    "    ]\n",
    ")\n",
    "knn_pipe.fit(X_flat, y)\n",
    "\n",
    "pred = knn_pipe.predict(X_flat)\n",
    "print(\"Train acc (KNN):\", accuracy_score(y, pred))"
   ]
  },
  {
   "cell_type": "markdown",
   "id": "c9637d35",
   "metadata": {
    "papermill": {
     "duration": 0.007458,
     "end_time": "2025-08-03T22:19:56.311549",
     "exception": false,
     "start_time": "2025-08-03T22:19:56.304091",
     "status": "completed"
    },
    "tags": []
   },
   "source": [
    "## PCA + Linear SVM"
   ]
  },
  {
   "cell_type": "code",
   "execution_count": 14,
   "id": "e69844ff",
   "metadata": {
    "execution": {
     "iopub.execute_input": "2025-08-03T22:19:56.327700Z",
     "iopub.status.busy": "2025-08-03T22:19:56.326946Z",
     "iopub.status.idle": "2025-08-03T22:20:03.528363Z",
     "shell.execute_reply": "2025-08-03T22:20:03.527524Z"
    },
    "papermill": {
     "duration": 7.211165,
     "end_time": "2025-08-03T22:20:03.529907",
     "exception": false,
     "start_time": "2025-08-03T22:19:56.318742",
     "status": "completed"
    },
    "tags": []
   },
   "outputs": [
    {
     "name": "stdout",
     "output_type": "stream",
     "text": [
      "Train acc (PCA+SVM): 0.8934047619047619\n"
     ]
    }
   ],
   "source": [
    "pca_svm_pipe = Pipeline(\n",
    "    [\n",
    "        (\"scale\", StandardScaler()),\n",
    "        (\"pca\", PCA(n_components=50, random_state=SEED)),\n",
    "        (\"svm\", LinearSVC(C=1.0, dual=False, random_state=SEED)),\n",
    "    ]\n",
    ")\n",
    "pca_svm_pipe.fit(X_flat, y)\n",
    "print(\"Train acc (PCA+SVM):\", accuracy_score(y, pca_svm_pipe.predict(X_flat)))"
   ]
  },
  {
   "cell_type": "markdown",
   "id": "9e18c114",
   "metadata": {
    "papermill": {
     "duration": 0.007391,
     "end_time": "2025-08-03T22:20:03.546253",
     "exception": false,
     "start_time": "2025-08-03T22:20:03.538862",
     "status": "completed"
    },
    "tags": []
   },
   "source": [
    "# Convolutional Neural Network (CNN) Model"
   ]
  },
  {
   "cell_type": "code",
   "execution_count": null,
   "id": "3b358184",
   "metadata": {
    "execution": {
     "iopub.execute_input": "2025-08-03T22:20:03.562222Z",
     "iopub.status.busy": "2025-08-03T22:20:03.561963Z",
     "iopub.status.idle": "2025-08-03T22:20:03.570862Z",
     "shell.execute_reply": "2025-08-03T22:20:03.570198Z"
    },
    "papermill": {
     "duration": 0.018124,
     "end_time": "2025-08-03T22:20:03.571877",
     "exception": false,
     "start_time": "2025-08-03T22:20:03.553753",
     "status": "completed"
    },
    "tags": []
   },
   "outputs": [],
   "source": [
    "from digit_recognizer import build_model"
   ]
  },
  {
   "cell_type": "markdown",
   "id": "91ff0dd0",
   "metadata": {
    "papermill": {
     "duration": 0.00727,
     "end_time": "2025-08-03T22:20:03.586663",
     "exception": false,
     "start_time": "2025-08-03T22:20:03.579393",
     "status": "completed"
    },
    "tags": []
   },
   "source": [
    "## Data augmentation"
   ]
  },
  {
   "cell_type": "code",
   "execution_count": 16,
   "id": "5c90636e",
   "metadata": {
    "execution": {
     "iopub.execute_input": "2025-08-03T22:20:03.602002Z",
     "iopub.status.busy": "2025-08-03T22:20:03.601772Z",
     "iopub.status.idle": "2025-08-03T22:20:03.651254Z",
     "shell.execute_reply": "2025-08-03T22:20:03.650611Z"
    },
    "papermill": {
     "duration": 0.058874,
     "end_time": "2025-08-03T22:20:03.652757",
     "exception": false,
     "start_time": "2025-08-03T22:20:03.593883",
     "status": "completed"
    },
    "tags": []
   },
   "outputs": [],
   "source": [
    "datagen = tf.keras.preprocessing.image.ImageDataGenerator(\n",
    "    rotation_range=10, width_shift_range=0.1, height_shift_range=0.1\n",
    ")\n",
    "datagen.fit(X)"
   ]
  },
  {
   "cell_type": "markdown",
   "id": "463b9adc",
   "metadata": {
    "papermill": {
     "duration": 0.00777,
     "end_time": "2025-08-03T22:20:03.668652",
     "exception": false,
     "start_time": "2025-08-03T22:20:03.660882",
     "status": "completed"
    },
    "tags": []
   },
   "source": [
    "##  Train/val split"
   ]
  },
  {
   "cell_type": "code",
   "execution_count": 17,
   "id": "93618e3c",
   "metadata": {
    "execution": {
     "iopub.execute_input": "2025-08-03T22:20:03.684894Z",
     "iopub.status.busy": "2025-08-03T22:20:03.684625Z",
     "iopub.status.idle": "2025-08-03T22:20:04.021342Z",
     "shell.execute_reply": "2025-08-03T22:20:04.020710Z"
    },
    "papermill": {
     "duration": 0.346491,
     "end_time": "2025-08-03T22:20:04.022732",
     "exception": false,
     "start_time": "2025-08-03T22:20:03.676241",
     "status": "completed"
    },
    "tags": []
   },
   "outputs": [],
   "source": [
    "X_tr, X_val, y_tr, y_val = train_test_split(\n",
    "    X, y, test_size=0.1, stratify=y, random_state=SEED\n",
    ")"
   ]
  },
  {
   "cell_type": "markdown",
   "id": "1199f8b3",
   "metadata": {
    "papermill": {
     "duration": 0.007302,
     "end_time": "2025-08-03T22:20:04.038087",
     "exception": false,
     "start_time": "2025-08-03T22:20:04.030785",
     "status": "completed"
    },
    "tags": []
   },
   "source": [
    "# Hyper-parameter Tuning (≤40 trials)"
   ]
  },
  {
   "cell_type": "code",
   "execution_count": null,
   "id": "0e6a4ee8",
   "metadata": {
    "execution": {
     "iopub.execute_input": "2025-08-03T22:20:04.054081Z",
     "iopub.status.busy": "2025-08-03T22:20:04.053812Z",
     "iopub.status.idle": "2025-08-04T00:01:09.989755Z",
     "shell.execute_reply": "2025-08-04T00:01:09.988937Z"
    },
    "papermill": {
     "duration": 6065.945465,
     "end_time": "2025-08-04T00:01:09.990968",
     "exception": false,
     "start_time": "2025-08-03T22:20:04.045503",
     "status": "completed"
    },
    "tags": []
   },
   "outputs": [
    {
     "name": "stdout",
     "output_type": "stream",
     "text": [
      "Trial 40 Complete [00h 02m 47s]\n",
      "val_accuracy: 0.9628571271896362\n",
      "\n",
      "Best val_accuracy So Far: 0.9942857027053833\n",
      "Total elapsed time: 01h 41m 02s\n",
      "No meaningful gain in 10 trials – stopping search early.\n",
      "{'filters1': 16, 'kernel1': 5, 'filters2': 128, 'kernel2': 5, 'dense': 320, 'dropout': 0.4, 'lr': 0.0017874695487146437}\n"
     ]
    },
    {
     "name": "stderr",
     "output_type": "stream",
     "text": [
      "/usr/local/lib/python3.11/dist-packages/keras/src/saving/saving_lib.py:757: UserWarning: Skipping variable loading for optimizer 'adam', because it has 2 variables whereas the saved optimizer has 18 variables. \n",
      "  saveable.load_own_variables(weights_store.get(inner_path))\n"
     ]
    }
   ],
   "source": [
    "from digit_recognizer import run_bayes_tuner\n",
    "\n",
    "best_model, best_hp = run_bayes_tuner(datagen, X_tr, X_val, y_tr, y_val)\n",
    "print(best_hp.values)"
   ]
  },
  {
   "cell_type": "markdown",
   "id": "7b4cf048",
   "metadata": {
    "papermill": {
     "duration": 0.007771,
     "end_time": "2025-08-04T00:01:10.007195",
     "exception": false,
     "start_time": "2025-08-04T00:01:09.999424",
     "status": "completed"
    },
    "tags": []
   },
   "source": [
    "# Cross-Validation"
   ]
  },
  {
   "cell_type": "code",
   "execution_count": 19,
   "id": "919f17c5",
   "metadata": {
    "execution": {
     "iopub.execute_input": "2025-08-04T00:01:10.023956Z",
     "iopub.status.busy": "2025-08-04T00:01:10.023715Z",
     "iopub.status.idle": "2025-08-04T00:11:10.174432Z",
     "shell.execute_reply": "2025-08-04T00:11:10.173610Z"
    },
    "papermill": {
     "duration": 600.168242,
     "end_time": "2025-08-04T00:11:10.183430",
     "exception": false,
     "start_time": "2025-08-04T00:01:10.015188",
     "status": "completed"
    },
    "tags": []
   },
   "outputs": [
    {
     "name": "stderr",
     "output_type": "stream",
     "text": [
      "/usr/local/lib/python3.11/dist-packages/keras/src/trainers/data_adapters/py_dataset_adapter.py:121: UserWarning: Your `PyDataset` class should call `super().__init__(**kwargs)` in its constructor. `**kwargs` can include `workers`, `use_multiprocessing`, `max_queue_size`. Do not pass these arguments to `fit()`, as they will be ignored.\n",
      "  self._warn_if_super_not_called()\n"
     ]
    },
    {
     "name": "stdout",
     "output_type": "stream",
     "text": [
      "Fold 1: 0.9927\n",
      "Fold 2: 0.9887\n",
      "Fold 3: 0.9915\n",
      "Fold 4: 0.9929\n",
      "Fold 5: 0.9933\n",
      "CV mean ± std: 0.9918 ± 0.0017\n"
     ]
    }
   ],
   "source": [
    "skf = StratifiedKFold(n_splits=5, shuffle=True, random_state=SEED)\n",
    "cv_scores = []\n",
    "\n",
    "for fold, (tr, va) in enumerate(skf.split(X, y), 1):\n",
    "    model = build_model(best_hp)\n",
    "    model.fit(\n",
    "        datagen.flow(X[tr], y[tr], batch_size=128),\n",
    "        epochs=15,\n",
    "        verbose=0,\n",
    "        validation_data=(X[va], y[va]),\n",
    "        callbacks=[tf.keras.callbacks.EarlyStopping(patience=3)],\n",
    "    )\n",
    "    acc = model.evaluate(X[va], y[va], verbose=0)[1]\n",
    "    cv_scores.append(acc)\n",
    "    print(f\"Fold {fold}: {acc:.4f}\")\n",
    "\n",
    "print(f\"CV mean ± std: {np.mean(cv_scores):.4f} ± {np.std(cv_scores):.4f}\")"
   ]
  },
  {
   "cell_type": "markdown",
   "id": "92601295",
   "metadata": {
    "papermill": {
     "duration": 0.007448,
     "end_time": "2025-08-04T00:11:10.198580",
     "exception": false,
     "start_time": "2025-08-04T00:11:10.191132",
     "status": "completed"
    },
    "tags": []
   },
   "source": [
    "# Confusion Matrix"
   ]
  },
  {
   "cell_type": "code",
   "execution_count": 20,
   "id": "5a45e32f",
   "metadata": {
    "execution": {
     "iopub.execute_input": "2025-08-04T00:11:10.214823Z",
     "iopub.status.busy": "2025-08-04T00:11:10.214572Z",
     "iopub.status.idle": "2025-08-04T00:11:11.529070Z",
     "shell.execute_reply": "2025-08-04T00:11:11.528253Z"
    },
    "papermill": {
     "duration": 1.32414,
     "end_time": "2025-08-04T00:11:11.530252",
     "exception": false,
     "start_time": "2025-08-04T00:11:10.206112",
     "status": "completed"
    },
    "tags": []
   },
   "outputs": [
    {
     "name": "stdout",
     "output_type": "stream",
     "text": [
      "\u001b[1m132/132\u001b[0m \u001b[32m━━━━━━━━━━━━━━━━━━━━\u001b[0m\u001b[37m\u001b[0m \u001b[1m1s\u001b[0m 4ms/step\n"
     ]
    },
    {
     "data": {
      "image/png": "[encoded data removed]",
      "text/plain": [
       "<Figure size 640x480 with 2 Axes>"
      ]
     },
     "metadata": {},
     "output_type": "display_data"
    }
   ],
   "source": [
    "val_pred = np.argmax(best_model.predict(X_val), axis=1)\n",
    "cm = confusion_matrix(y_val, val_pred)\n",
    "ConfusionMatrixDisplay(cm).plot(cmap=\"Blues\")\n",
    "plt.show()"
   ]
  },
  {
   "cell_type": "markdown",
   "id": "37153e1f",
   "metadata": {
    "papermill": {
     "duration": 0.008813,
     "end_time": "2025-08-04T00:11:11.548671",
     "exception": false,
     "start_time": "2025-08-04T00:11:11.539858",
     "status": "completed"
    },
    "tags": []
   },
   "source": [
    "Off‑diagonal counts are tiny – the largest single error type is only 3 images."
   ]
  },
  {
   "cell_type": "markdown",
   "id": "fbd8f6dd",
   "metadata": {
    "papermill": {
     "duration": 0.008719,
     "end_time": "2025-08-04T00:11:11.566153",
     "exception": false,
     "start_time": "2025-08-04T00:11:11.557434",
     "status": "completed"
    },
    "tags": []
   },
   "source": [
    "\n",
    "# Learnings\n",
    "\n",
    "| Model                 | Val‑Acc   | Take‑away                                                                                    |\n",
    "| --------------------- | --------- | -------------------------------------------------------------------------------------------- |\n",
    "| K‑NN (k = 3)          | **0.984** | Raw‑pixel Euclidean distance is a scary‑strong baseline for 28×28 glyphs.                    |\n",
    "| PCA (50) + Linear‑SVM | **0.893** | Dimensionality reduction plus linear margin discards translation info. Unsurprisingly weaker. |\n",
    "| **CNN (Bayes‑tuned)** | **0.992** | 16/3 → 128/3 conv blocks, 0.3 dropout, lr≈6e‑4.  Anything deeper over‑fitted.                |\n",
    "\n",
    "Best Hyperparamters for CNN:\n",
    "\n",
    "```json\n",
    "{\n",
    "  \"filters1\": 16,\n",
    "  \"kernel1\": 5,\n",
    "  \"filters2\": 128,\n",
    "  \"kernel2\": 5,\n",
    "  \"dense\": 320,\n",
    "  \"dropout\": 0.4,\n",
    "  \"lr\": 1.8e-3\n",
    "}\n",
    "```"
   ]
  },
  {
   "cell_type": "markdown",
   "id": "03e721cd",
   "metadata": {
    "papermill": {
     "duration": 0.008373,
     "end_time": "2025-08-04T00:11:11.583501",
     "exception": false,
     "start_time": "2025-08-04T00:11:11.575128",
     "status": "completed"
    },
    "tags": []
   },
   "source": [
    "# Train on Full Data & Generate Submission"
   ]
  },
  {
   "cell_type": "code",
   "execution_count": 21,
   "id": "df4a4472",
   "metadata": {
    "execution": {
     "iopub.execute_input": "2025-08-04T00:11:11.602794Z",
     "iopub.status.busy": "2025-08-04T00:11:11.601965Z",
     "iopub.status.idle": "2025-08-04T00:13:35.935802Z",
     "shell.execute_reply": "2025-08-04T00:13:35.935197Z"
    },
    "papermill": {
     "duration": 144.344629,
     "end_time": "2025-08-04T00:13:35.937110",
     "exception": false,
     "start_time": "2025-08-04T00:11:11.592481",
     "status": "completed"
    },
    "tags": []
   },
   "outputs": [
    {
     "name": "stdout",
     "output_type": "stream",
     "text": [
      "Epoch 1/12\n"
     ]
    },
    {
     "name": "stderr",
     "output_type": "stream",
     "text": [
      "/usr/local/lib/python3.11/dist-packages/keras/src/trainers/data_adapters/py_dataset_adapter.py:121: UserWarning: Your `PyDataset` class should call `super().__init__(**kwargs)` in its constructor. `**kwargs` can include `workers`, `use_multiprocessing`, `max_queue_size`. Do not pass these arguments to `fit()`, as they will be ignored.\n",
      "  self._warn_if_super_not_called()\n"
     ]
    },
    {
     "name": "stdout",
     "output_type": "stream",
     "text": [
      "\u001b[1m329/329\u001b[0m \u001b[32m━━━━━━━━━━━━━━━━━━━━\u001b[0m\u001b[37m\u001b[0m \u001b[1m17s\u001b[0m 42ms/step - accuracy: 0.9831 - loss: 0.0570\n",
      "Epoch 2/12\n",
      "\u001b[1m  3/329\u001b[0m \u001b[37m━━━━━━━━━━━━━━━━━━━━\u001b[0m \u001b[1m11s\u001b[0m 37ms/step - accuracy: 0.9913 - loss: 0.0364"
     ]
    },
    {
     "name": "stderr",
     "output_type": "stream",
     "text": [
      "/usr/local/lib/python3.11/dist-packages/keras/src/callbacks/early_stopping.py:153: UserWarning: Early stopping conditioned on metric `val_loss` which is not available. Available metrics are: accuracy,loss\n",
      "  current = self.get_monitor_value(logs)\n"
     ]
    },
    {
     "name": "stdout",
     "output_type": "stream",
     "text": [
      "\u001b[1m329/329\u001b[0m \u001b[32m━━━━━━━━━━━━━━━━━━━━\u001b[0m\u001b[37m\u001b[0m \u001b[1m11s\u001b[0m 35ms/step - accuracy: 0.9866 - loss: 0.0463\n",
      "Epoch 3/12\n",
      "\u001b[1m329/329\u001b[0m \u001b[32m━━━━━━━━━━━━━━━━━━━━\u001b[0m\u001b[37m\u001b[0m \u001b[1m11s\u001b[0m 34ms/step - accuracy: 0.9846 - loss: 0.0494\n",
      "Epoch 4/12\n",
      "\u001b[1m329/329\u001b[0m \u001b[32m━━━━━━━━━━━━━━━━━━━━\u001b[0m\u001b[37m\u001b[0m \u001b[1m11s\u001b[0m 34ms/step - accuracy: 0.9859 - loss: 0.0482\n",
      "Epoch 5/12\n",
      "\u001b[1m329/329\u001b[0m \u001b[32m━━━━━━━━━━━━━━━━━━━━\u001b[0m\u001b[37m\u001b[0m \u001b[1m11s\u001b[0m 35ms/step - accuracy: 0.9867 - loss: 0.0436\n",
      "Epoch 6/12\n",
      "\u001b[1m329/329\u001b[0m \u001b[32m━━━━━━━━━━━━━━━━━━━━\u001b[0m\u001b[37m\u001b[0m \u001b[1m11s\u001b[0m 34ms/step - accuracy: 0.9872 - loss: 0.0438\n",
      "Epoch 7/12\n",
      "\u001b[1m329/329\u001b[0m \u001b[32m━━━━━━━━━━━━━━━━━━━━\u001b[0m\u001b[37m\u001b[0m \u001b[1m11s\u001b[0m 34ms/step - accuracy: 0.9876 - loss: 0.0424\n",
      "Epoch 8/12\n",
      "\u001b[1m329/329\u001b[0m \u001b[32m━━━━━━━━━━━━━━━━━━━━\u001b[0m\u001b[37m\u001b[0m \u001b[1m11s\u001b[0m 34ms/step - accuracy: 0.9881 - loss: 0.0391\n",
      "Epoch 9/12\n",
      "\u001b[1m329/329\u001b[0m \u001b[32m━━━━━━━━━━━━━━━━━━━━\u001b[0m\u001b[37m\u001b[0m \u001b[1m11s\u001b[0m 35ms/step - accuracy: 0.9893 - loss: 0.0375\n",
      "Epoch 10/12\n",
      "\u001b[1m329/329\u001b[0m \u001b[32m━━━━━━━━━━━━━━━━━━━━\u001b[0m\u001b[37m\u001b[0m \u001b[1m11s\u001b[0m 34ms/step - accuracy: 0.9888 - loss: 0.0392\n",
      "Epoch 11/12\n",
      "\u001b[1m329/329\u001b[0m \u001b[32m━━━━━━━━━━━━━━━━━━━━\u001b[0m\u001b[37m\u001b[0m \u001b[1m11s\u001b[0m 34ms/step - accuracy: 0.9882 - loss: 0.0393\n",
      "Epoch 12/12\n",
      "\u001b[1m329/329\u001b[0m \u001b[32m━━━━━━━━━━━━━━━━━━━━\u001b[0m\u001b[37m\u001b[0m \u001b[1m11s\u001b[0m 34ms/step - accuracy: 0.9886 - loss: 0.0380\n",
      "\u001b[1m875/875\u001b[0m \u001b[32m━━━━━━━━━━━━━━━━━━━━\u001b[0m\u001b[37m\u001b[0m \u001b[1m2s\u001b[0m 2ms/step\n"
     ]
    }
   ],
   "source": [
    "best_model.fit(\n",
    "    datagen.flow(X, y, batch_size=128),\n",
    "    epochs=12,\n",
    "    callbacks=[callbacks.EarlyStopping(patience=3)],\n",
    ")\n",
    "test_pred = np.argmax(best_model.predict(X_test), axis=1)\n",
    "\n",
    "sub = pd.DataFrame({\"ImageId\": np.arange(1, len(X_test) + 1), \"Label\": test_pred})\n",
    "sub.to_csv(\"submission.csv\", index=False)"
   ]
  },
  {
   "cell_type": "markdown",
   "id": "9391654a",
   "metadata": {
    "papermill": {
     "duration": 0.088732,
     "end_time": "2025-08-04T00:13:36.117891",
     "exception": false,
     "start_time": "2025-08-04T00:13:36.029159",
     "status": "completed"
    },
    "tags": []
   },
   "source": [
    "# Leaderboard result\n",
    "\n",
    "This model scored **0.99364** on Kaggle’s public leaderboard (placed 89 of 636 scores ≈ top 14 %). Runtime: 1h 45m 41s on the free T4 x2 GPU.\n",
    "\n",
    "# Trade‑offs & next steps\n",
    "\n",
    "The current pipeline is the *sweet‑spot* where clarity, speed and accuracy intersect. But if I had to make improvements I'd consider:\n",
    "\n",
    "1. **Power vs cost**  Squeezing another +0.2 pp usually means greater depth or an ensemble. This should be weighted gainst training expense in terms of time and money.\n",
    "2. **Ensembling** three differently seeded clones for example.\n",
    "3. **SpatialDropout2D** might regularize filters better than plain Dropout.\n",
    "4. **MixUp** or **CutMix** augmentations could close the remaining gap."
   ]
  }
 ],
 "metadata": {
  "kaggle": {
   "accelerator": "nvidiaTeslaT4",
   "dataSources": [
    {
     "databundleVersionId": 861823,
     "sourceId": 3004,
     "sourceType": "competition"
    }
   ],
   "dockerImageVersionId": 31040,
   "isGpuEnabled": true,
   "isInternetEnabled": true,
   "language": "python",
   "sourceType": "notebook"
  },
  "kernelspec": {
   "display_name": "Python 3",
   "language": "python",
   "name": "python3"
  },
  "language_info": {
   "codemirror_mode": {
    "name": "ipython",
    "version": 3
   },
   "file_extension": ".py",
   "mimetype": "text/x-python",
   "name": "python",
   "nbconvert_exporter": "python",
   "pygments_lexer": "ipython3",
   "version": "3.11.11"
  },
  "papermill": {
   "default_parameters": {},
   "duration": 6887.870049,
   "end_time": "2025-08-04T00:13:39.862044",
   "environment_variables": {},
   "exception": null,
   "input_path": "__notebook__.ipynb",
   "output_path": "__notebook__.ipynb",
   "parameters": {},
   "start_time": "2025-08-03T22:18:51.991995",
   "version": "2.6.0"
  }
 },
 "nbformat": 4,
 "nbformat_minor": 5
}
