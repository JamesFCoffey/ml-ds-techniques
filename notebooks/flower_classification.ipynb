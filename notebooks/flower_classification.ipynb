{
 "cells": [
  {
   "cell_type": "markdown",
   "metadata": {
    "papermill": {
     "duration": 0.01102,
     "end_time": "2020-09-16T14:27:00.831422",
     "exception": false,
     "start_time": "2020-09-16T14:27:00.820402",
     "status": "completed"
    },
    "tags": []
   },
   "source": [
    "# A Simple TF 2.2 notebook\n",
    "\n",
    "This is intended as a simple, short introduction to the operations competitors will need to perform with TPUs."
   ]
  },
  {
   "cell_type": "code",
   "execution_count": 1,
   "metadata": {
    "_cell_guid": "b1076dfc-b9ad-4769-8c92-a6c4dae69d19",
    "_uuid": "8f2839f25d086af736a60e9eeb907d3b93b6e0e5",
    "execution": {
     "iopub.execute_input": "2020-09-16T14:27:00.857135Z",
     "iopub.status.busy": "2020-09-16T14:27:00.856294Z",
     "iopub.status.idle": "2020-09-16T14:27:05.931784Z",
     "shell.execute_reply": "2020-09-16T14:27:05.930341Z"
    },
    "papermill": {
     "duration": 5.090661,
     "end_time": "2020-09-16T14:27:05.931910",
     "exception": false,
     "start_time": "2020-09-16T14:27:00.841249",
     "status": "completed"
    },
    "tags": []
   },
   "outputs": [
    {
     "name": "stdout",
     "output_type": "stream",
     "text": [
      "Tensorflow version 2.2.0\n"
     ]
    }
   ],
   "source": [
    "import tensorflow as tf\n",
    "from kaggle_datasets import KaggleDatasets\n",
    "import numpy as np\n",
    "\n",
    "print(\"Tensorflow version \" + tf.__version__)"
   ]
  },
  {
   "cell_type": "markdown",
   "metadata": {
    "papermill": {
     "duration": 0.010062,
     "end_time": "2020-09-16T14:27:05.953333",
     "exception": false,
     "start_time": "2020-09-16T14:27:05.943271",
     "status": "completed"
    },
    "tags": []
   },
   "source": [
    "# Detect my accelerator"
   ]
  },
  {
   "cell_type": "code",
   "execution_count": 2,
   "metadata": {
    "execution": {
     "iopub.execute_input": "2020-09-16T14:27:06.059375Z",
     "iopub.status.busy": "2020-09-16T14:27:06.058323Z",
     "iopub.status.idle": "2020-09-16T14:27:10.372945Z",
     "shell.execute_reply": "2020-09-16T14:27:10.372254Z"
    },
    "papermill": {
     "duration": 4.409337,
     "end_time": "2020-09-16T14:27:10.373099",
     "exception": false,
     "start_time": "2020-09-16T14:27:05.963762",
     "status": "completed"
    },
    "tags": []
   },
   "outputs": [
    {
     "name": "stdout",
     "output_type": "stream",
     "text": [
      "Running on TPU  grpc://10.0.0.2:8470\n",
      "REPLICAS:  8\n"
     ]
    }
   ],
   "source": [
    "# Detect hardware, return appropriate distribution strategy\n",
    "try:\n",
    "    tpu = tf.distribute.cluster_resolver.TPUClusterResolver()  # TPU detection. No parameters necessary if TPU_NAME environment variable is set. On Kaggle this is always the case.\n",
    "    print('Running on TPU ', tpu.master())\n",
    "except ValueError:\n",
    "    tpu = None\n",
    "\n",
    "if tpu:\n",
    "    tf.config.experimental_connect_to_cluster(tpu)\n",
    "    tf.tpu.experimental.initialize_tpu_system(tpu)\n",
    "    strategy = tf.distribute.experimental.TPUStrategy(tpu)\n",
    "else:\n",
    "    strategy = tf.distribute.get_strategy() # default distribution strategy in Tensorflow. Works on CPU and single GPU.\n",
    "\n",
    "print(\"REPLICAS: \", strategy.num_replicas_in_sync)"
   ]
  },
  {
   "cell_type": "markdown",
   "metadata": {
    "papermill": {
     "duration": 0.010681,
     "end_time": "2020-09-16T14:27:10.395634",
     "exception": false,
     "start_time": "2020-09-16T14:27:10.384953",
     "status": "completed"
    },
    "tags": []
   },
   "source": [
    "# Get my data path"
   ]
  },
  {
   "cell_type": "code",
   "execution_count": 3,
   "metadata": {
    "execution": {
     "iopub.execute_input": "2020-09-16T14:27:10.434702Z",
     "iopub.status.busy": "2020-09-16T14:27:10.434048Z",
     "iopub.status.idle": "2020-09-16T14:27:10.794742Z",
     "shell.execute_reply": "2020-09-16T14:27:10.794163Z"
    },
    "papermill": {
     "duration": 0.387872,
     "end_time": "2020-09-16T14:27:10.794868",
     "exception": false,
     "start_time": "2020-09-16T14:27:10.406996",
     "status": "completed"
    },
    "tags": []
   },
   "outputs": [],
   "source": [
    "GCS_DS_PATH = KaggleDatasets().get_gcs_path() # you can list the bucket with \"!gsutil ls $GCS_DS_PATH\""
   ]
  },
  {
   "cell_type": "markdown",
   "metadata": {
    "papermill": {
     "duration": 0.011146,
     "end_time": "2020-09-16T14:27:10.818070",
     "exception": false,
     "start_time": "2020-09-16T14:27:10.806924",
     "status": "completed"
    },
    "tags": []
   },
   "source": [
    "# Set some parameters"
   ]
  },
  {
   "cell_type": "code",
   "execution_count": 4,
   "metadata": {
    "execution": {
     "iopub.execute_input": "2020-09-16T14:27:10.846392Z",
     "iopub.status.busy": "2020-09-16T14:27:10.845791Z",
     "iopub.status.idle": "2020-09-16T14:27:10.849039Z",
     "shell.execute_reply": "2020-09-16T14:27:10.848478Z"
    },
    "papermill": {
     "duration": 0.019767,
     "end_time": "2020-09-16T14:27:10.849174",
     "exception": false,
     "start_time": "2020-09-16T14:27:10.829407",
     "status": "completed"
    },
    "tags": []
   },
   "outputs": [],
   "source": [
    "IMAGE_SIZE = [192, 192] # at this size, a GPU will run out of memory. Use the TPU\n",
    "EPOCHS = 5\n",
    "BATCH_SIZE = 16 * strategy.num_replicas_in_sync\n",
    "\n",
    "NUM_TRAINING_IMAGES = 12753\n",
    "NUM_TEST_IMAGES = 7382\n",
    "STEPS_PER_EPOCH = NUM_TRAINING_IMAGES // BATCH_SIZE"
   ]
  },
  {
   "cell_type": "markdown",
   "metadata": {
    "papermill": {
     "duration": 0.010985,
     "end_time": "2020-09-16T14:27:10.873529",
     "exception": false,
     "start_time": "2020-09-16T14:27:10.862544",
     "status": "completed"
    },
    "tags": []
   },
   "source": [
    "# Load my data\n",
    "\n",
    "This data is loaded from Kaggle and automatically sharded to maximize parallelization."
   ]
  },
  {
   "cell_type": "code",
   "execution_count": 5,
   "metadata": {
    "execution": {
     "iopub.execute_input": "2020-09-16T14:27:11.006188Z",
     "iopub.status.busy": "2020-09-16T14:27:11.005249Z",
     "iopub.status.idle": "2020-09-16T14:27:11.402834Z",
     "shell.execute_reply": "2020-09-16T14:27:11.402050Z"
    },
    "papermill": {
     "duration": 0.517593,
     "end_time": "2020-09-16T14:27:11.402952",
     "exception": false,
     "start_time": "2020-09-16T14:27:10.885359",
     "status": "completed"
    },
    "tags": []
   },
   "outputs": [],
   "source": [
    "def decode_image(image_data):\n",
    "    image = tf.image.decode_jpeg(image_data, channels=3)\n",
    "    image = tf.cast(image, tf.float32) / 255.0  # convert image to floats in [0, 1] range\n",
    "    image = tf.reshape(image, [*IMAGE_SIZE, 3]) # explicit size needed for TPU\n",
    "    return image\n",
    "\n",
    "def read_labeled_tfrecord(example):\n",
    "    LABELED_TFREC_FORMAT = {\n",
    "        \"image\": tf.io.FixedLenFeature([], tf.string), # tf.string means bytestring\n",
    "        \"class\": tf.io.FixedLenFeature([], tf.int64),  # shape [] means single element\n",
    "    }\n",
    "    example = tf.io.parse_single_example(example, LABELED_TFREC_FORMAT)\n",
    "    image = decode_image(example['image'])\n",
    "    label = tf.cast(example['class'], tf.int32)\n",
    "    return image, label # returns a dataset of (image, label) pairs\n",
    "\n",
    "def read_unlabeled_tfrecord(example):\n",
    "    UNLABELED_TFREC_FORMAT = {\n",
    "        \"image\": tf.io.FixedLenFeature([], tf.string), # tf.string means bytestring\n",
    "        \"id\": tf.io.FixedLenFeature([], tf.string),  # shape [] means single element\n",
    "        # class is missing, this competitions's challenge is to predict flower classes for the test dataset\n",
    "    }\n",
    "    example = tf.io.parse_single_example(example, UNLABELED_TFREC_FORMAT)\n",
    "    image = decode_image(example['image'])\n",
    "    idnum = example['id']\n",
    "    return image, idnum # returns a dataset of image(s)\n",
    "\n",
    "def load_dataset(filenames, labeled=True, ordered=False):\n",
    "    # Read from TFRecords. For optimal performance, reading from multiple files at once and\n",
    "    # disregarding data order. Order does not matter since we will be shuffling the data anyway.\n",
    "\n",
    "    ignore_order = tf.data.Options()\n",
    "    if not ordered:\n",
    "        ignore_order.experimental_deterministic = False # disable order, increase speed\n",
    "\n",
    "    dataset = tf.data.TFRecordDataset(filenames) # automatically interleaves reads from multiple files\n",
    "    dataset = dataset.with_options(ignore_order) # uses data as soon as it streams in, rather than in its original order\n",
    "    dataset = dataset.map(read_labeled_tfrecord if labeled else read_unlabeled_tfrecord)\n",
    "    # returns a dataset of (image, label) pairs if labeled=True or (image, id) pairs if labeled=False\n",
    "    return dataset\n",
    "\n",
    "def get_training_dataset():\n",
    "    dataset = load_dataset(tf.io.gfile.glob(GCS_DS_PATH + '/tfrecords-jpeg-192x192/train/*.tfrec'), labeled=True)\n",
    "    dataset = dataset.repeat() # the training dataset must repeat for several epochs\n",
    "    dataset = dataset.shuffle(2048)\n",
    "    dataset = dataset.batch(BATCH_SIZE)\n",
    "    return dataset\n",
    "\n",
    "def get_validation_dataset():\n",
    "    dataset = load_dataset(tf.io.gfile.glob(GCS_DS_PATH + '/tfrecords-jpeg-192x192/val/*.tfrec'), labeled=True, ordered=False)\n",
    "    dataset = dataset.batch(BATCH_SIZE)\n",
    "    dataset = dataset.cache()\n",
    "    return dataset\n",
    "\n",
    "def get_test_dataset(ordered=False):\n",
    "    dataset = load_dataset(tf.io.gfile.glob(GCS_DS_PATH + '/tfrecords-jpeg-192x192/test/*.tfrec'), labeled=False, ordered=ordered)\n",
    "    dataset = dataset.batch(BATCH_SIZE)\n",
    "    return dataset\n",
    "\n",
    "training_dataset = get_training_dataset()\n",
    "validation_dataset = get_validation_dataset()"
   ]
  },
  {
   "cell_type": "markdown",
   "metadata": {
    "papermill": {
     "duration": 0.011121,
     "end_time": "2020-09-16T14:27:11.426017",
     "exception": false,
     "start_time": "2020-09-16T14:27:11.414896",
     "status": "completed"
    },
    "tags": []
   },
   "source": [
    "# Build a model on TPU (or GPU, or CPU...) with Tensorflow 2.1!"
   ]
  },
  {
   "cell_type": "code",
   "execution_count": 6,
   "metadata": {
    "execution": {
     "iopub.execute_input": "2020-09-16T14:27:11.457695Z",
     "iopub.status.busy": "2020-09-16T14:27:11.457014Z",
     "iopub.status.idle": "2020-09-16T14:28:53.365665Z",
     "shell.execute_reply": "2020-09-16T14:28:53.365139Z"
    },
    "papermill": {
     "duration": 101.928453,
     "end_time": "2020-09-16T14:28:53.365780",
     "exception": false,
     "start_time": "2020-09-16T14:27:11.437327",
     "status": "completed"
    },
    "tags": []
   },
   "outputs": [
    {
     "name": "stdout",
     "output_type": "stream",
     "text": [
      "Downloading data from https://storage.googleapis.com/tensorflow/keras-applications/vgg16/vgg16_weights_tf_dim_ordering_tf_kernels_notop.h5\n",
      "58892288/58889256 [==============================] - 0s 0us/step\n",
      "Epoch 1/5\n",
      "99/99 [==============================] - 34s 348ms/step - sparse_categorical_accuracy: 0.1021 - loss: 4.0512 - val_sparse_categorical_accuracy: 0.1724 - val_loss: 3.7319\n",
      "Epoch 2/5\n",
      "99/99 [==============================] - 13s 129ms/step - sparse_categorical_accuracy: 0.2055 - loss: 3.5447 - val_sparse_categorical_accuracy: 0.2317 - val_loss: 3.3837\n",
      "Epoch 3/5\n",
      "99/99 [==============================] - 13s 132ms/step - sparse_categorical_accuracy: 0.2650 - loss: 3.2295 - val_sparse_categorical_accuracy: 0.2858 - val_loss: 3.1298\n",
      "Epoch 4/5\n",
      "99/99 [==============================] - 13s 128ms/step - sparse_categorical_accuracy: 0.3145 - loss: 3.0038 - val_sparse_categorical_accuracy: 0.3489 - val_loss: 2.9322\n",
      "Epoch 5/5\n",
      "99/99 [==============================] - 13s 128ms/step - sparse_categorical_accuracy: 0.3658 - loss: 2.8024 - val_sparse_categorical_accuracy: 0.3704 - val_loss: 2.7704\n"
     ]
    }
   ],
   "source": [
    "with strategy.scope():    \n",
    "    pretrained_model = tf.keras.applications.VGG16(weights='imagenet', include_top=False ,input_shape=[*IMAGE_SIZE, 3])\n",
    "    pretrained_model.trainable = False # tramsfer learning\n",
    "    \n",
    "    model = tf.keras.Sequential([\n",
    "        pretrained_model,\n",
    "        tf.keras.layers.GlobalAveragePooling2D(),\n",
    "        tf.keras.layers.Dense(104, activation='softmax')\n",
    "    ])\n",
    "        \n",
    "model.compile(\n",
    "    optimizer='adam',\n",
    "    loss = 'sparse_categorical_crossentropy',\n",
    "    metrics=['sparse_categorical_accuracy']\n",
    ")\n",
    "\n",
    "historical = model.fit(training_dataset, \n",
    "          steps_per_epoch=STEPS_PER_EPOCH, \n",
    "          epochs=EPOCHS, \n",
    "          validation_data=validation_dataset)"
   ]
  },
  {
   "cell_type": "markdown",
   "metadata": {
    "papermill": {
     "duration": 0.192066,
     "end_time": "2020-09-16T14:28:53.749360",
     "exception": false,
     "start_time": "2020-09-16T14:28:53.557294",
     "status": "completed"
    },
    "tags": []
   },
   "source": [
    "# Compute your predictions on the test set!\n",
    "\n",
    "This will create a file that can be submitted to the competition."
   ]
  },
  {
   "cell_type": "code",
   "execution_count": 7,
   "metadata": {
    "execution": {
     "iopub.execute_input": "2020-09-16T14:28:54.217714Z",
     "iopub.status.busy": "2020-09-16T14:28:54.216805Z",
     "iopub.status.idle": "2020-09-16T14:29:29.008686Z",
     "shell.execute_reply": "2020-09-16T14:29:29.009507Z"
    },
    "papermill": {
     "duration": 35.067295,
     "end_time": "2020-09-16T14:29:29.009686",
     "exception": false,
     "start_time": "2020-09-16T14:28:53.942391",
     "status": "completed"
    },
    "tags": []
   },
   "outputs": [
    {
     "name": "stdout",
     "output_type": "stream",
     "text": [
      "Computing predictions...\n",
      "[ 67  53 103 ...  77  53  79]\n",
      "Generating submission.csv file...\n"
     ]
    }
   ],
   "source": [
    "test_ds = get_test_dataset(ordered=True) # since we are splitting the dataset and iterating separately on images and ids, order matters.\n",
    "\n",
    "print('Computing predictions...')\n",
    "test_images_ds = test_ds.map(lambda image, idnum: image)\n",
    "probabilities = model.predict(test_images_ds)\n",
    "predictions = np.argmax(probabilities, axis=-1)\n",
    "print(predictions)\n",
    "\n",
    "print('Generating submission.csv file...')\n",
    "test_ids_ds = test_ds.map(lambda image, idnum: idnum).unbatch()\n",
    "test_ids = next(iter(test_ids_ds.batch(NUM_TEST_IMAGES))).numpy().astype('U') # all in one batch\n",
    "np.savetxt('submission.csv', np.rec.fromarrays([test_ids, predictions]), fmt=['%s', '%d'], delimiter=',', header='id,label', comments='')"
   ]
  },
  {
   "cell_type": "code",
   "execution_count": null,
   "metadata": {
    "papermill": {
     "duration": 0.207163,
     "end_time": "2020-09-16T14:29:29.422964",
     "exception": false,
     "start_time": "2020-09-16T14:29:29.215801",
     "status": "completed"
    },
    "tags": []
   },
   "outputs": [],
   "source": []
  }
 ],
 "metadata": {
  "kernelspec": {
   "display_name": "Python 3",
   "language": "python",
   "name": "python3"
  },
  "language_info": {
   "codemirror_mode": {
    "name": "ipython",
    "version": 3
   },
   "file_extension": ".py",
   "mimetype": "text/x-python",
   "name": "python",
   "nbconvert_exporter": "python",
   "pygments_lexer": "ipython3",
   "version": "3.7.6"
  },
  "papermill": {
   "duration": 153.213042,
   "end_time": "2020-09-16T14:29:29.738568",
   "environment_variables": {},
   "exception": null,
   "input_path": "__notebook__.ipynb",
   "output_path": "__notebook__.ipynb",
   "parameters": {},
   "start_time": "2020-09-16T14:26:56.525526",
   "version": "2.1.0"
  }
 },
 "nbformat": 4,
 "nbformat_minor": 4
}
